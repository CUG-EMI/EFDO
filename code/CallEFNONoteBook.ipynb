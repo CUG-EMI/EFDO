{
 "cells": [
  {
   "cell_type": "code",
   "execution_count": 1,
   "metadata": {},
   "outputs": [
    {
     "name": "stdout",
     "output_type": "stream",
     "text": [
      "../data/TrainDataSet.mat\n"
     ]
    },
    {
     "name": "stderr",
     "output_type": "stream",
     "text": [
      "/home/em/anaconda3/envs/torch/lib/python3.8/site-packages/torch/functional.py:504: UserWarning: torch.meshgrid: in an upcoming release, it will be required to pass the indexing argument. (Triggered internally at ../aten/src/ATen/native/TensorShape.cpp:3483.)\n",
      "  return _VF.meshgrid(tensors, **kwargs)  # type: ignore[attr-defined]\n"
     ]
    },
    {
     "name": "stdout",
     "output_type": "stream",
     "text": [
      "model_path /home/em/weiyangliao/NeuralOperatorCode_20241101/code/../temp_model/EFNO_config_2_epoch_500.pkl\n"
     ]
    }
   ],
   "source": [
    "import sys            \n",
    "import os\n",
    "import numpy as np\n",
    "import torch\n",
    "from torchinfo import summary\n",
    "import yaml\n",
    "from timeit import default_timer\n",
    "import sys\n",
    "from utilities import *\n",
    "from EFNO import EFNO\n",
    "\n",
    "with open('config_EFNO.yml') as f:\n",
    "    config = yaml.full_load(f)\n",
    "cuda_id = \"cuda:\"+\"0\"\n",
    "device = torch.device(cuda_id if torch.cuda.is_available() else \"cpu\")\n",
    "item = 'EFNO_config'\n",
    "config = config[item]\n",
    "TRAIN_PATH = config['TRAIN_PATH']\n",
    "VAL_PATH   = config['VAL_PATH']\n",
    "TEST_PATH  = config['TEST_PATH']\n",
    "save_mode  = config['save_mode']\n",
    "save_step  = config['save_step']\n",
    "n_out      = config['n_out'] # rhoxy,rhoyx\n",
    "log_path = \"../log/\"+config['name']+\"_\"+str(n_out)+'.log'\n",
    "ntrain = config['ntrain']\n",
    "nval = config['nval']\n",
    "ntest  = config['ntest']\n",
    "batch_size = config['batch_size']\n",
    "learning_rate = config['learning_rate']\n",
    "epochs = config['epochs']\n",
    "step_size = config['step_size']\n",
    "gamma = config['gamma']\n",
    "modes = config['modes']\n",
    "width = config['width']\n",
    "s_train = config['s_train']\n",
    "r_train = config['r_train']\n",
    "s_val = config['s_val']\n",
    "r_val = config['r_val']\n",
    "s_test = config['s_test']\n",
    "r_test = config['r_test']\n",
    "layer_num = config['layer_num']\n",
    "last_size = config['last_size']\n",
    "layer_sizes = config['layer_sizes'] + [2*64]\n",
    "act_fno   = config['act_fno']\n",
    "act_func  = config['act_func']\n",
    "init_func = config['init_func']    \n",
    "patience = config['patience'] # if there is {patience} epoch that val_error is larger, early stop,\n",
    "thre_epoch = config['thre_epoch']# condiser early stop after {thre_epoch} epochs\n",
    "print_model_flag = config['print_model_flag'] # print model\n",
    "\n",
    "key_map0 = ['rhoxy','rhoyx']\n",
    "key_map = key_map0[:n_out] \n",
    "print(TRAIN_PATH)\n",
    "\n",
    "# get training data \n",
    "reader = MatReader(TRAIN_PATH) \n",
    "x_train = reader.read_field('sig')\n",
    "x_train = x_train[:ntrain,::r_train[0],::r_train[1]][:,:s_train[0],:s_train[1]] \n",
    "y_train = torch.stack([reader.read_field(key_map[i])\\\n",
    "[:ntrain,::r_train[2],::r_train[3]][:,:s_train[2],:s_train[3]] for i in range(len(key_map))]).permute(1,2,3,0)\n",
    "\n",
    "freq_base    = reader.read_field('freq')[0] \n",
    "obs_base     = reader.read_field('obs')[0] \n",
    "freq    = torch.log10(freq_base[::r_train[2]][:s_train[2]]) \n",
    "obs     = obs_base[::r_train[3]][:s_train[3]]/torch.max(obs_base) \n",
    "\n",
    "loc1,loc2     = torch.meshgrid(freq,obs)\n",
    "loc = torch.cat((loc1.reshape(-1,1),loc2.reshape(-1,1)),-1)\n",
    "del reader\n",
    "\n",
    "# data normalization\n",
    "x_normalizer = GaussianNormalizer(x_train) \n",
    "y_normalizer = GaussianNormalizer_out(y_train) \n",
    "\n",
    "# load network model \n",
    "model = EFNO(layer_sizes, act_func, init_func,modes, modes, width,\\\n",
    "        n_out,layer_num, last_size, act_fno).to(device)\n",
    "model_path = sys.path[0] + \"/../temp_model/EFNO_config_2_epoch_500.pkl\"\n",
    "print(\"model_path\", model_path)\n",
    "model.load_state_dict(torch.load(model_path))\n",
    "\n",
    "\n",
    "# The input data defines in the predict function is un-normalized (the original input data)\n",
    "# and the output data defines in the predict function is also un-normalized\n",
    "loc = loc.to(device)\n",
    "def predict(x, loc=loc):\n",
    "\n",
    "    x = x.unsqueeze(0).unsqueeze(3)\n",
    "    x = x_normalizer.encode(x)\n",
    "    batch_size = 1\n",
    "    input_size = s_train[2]*s_train[3]\n",
    "    x = x.to(device)\n",
    "    with torch.no_grad():\n",
    "        out = model(loc, x)\n",
    "        out = torch.cat(([out[:,i*input_size:(i+1)*input_size].reshape(batch_size,int(s_train[2]/r_train[2]),int(s_train[3]/r_train[3]),-1) for i in range(n_out)]),-1)\n",
    "        out = y_normalizer.decode(out)\n",
    "    out = out.squeeze()\n",
    "\n",
    "    return out.cpu().numpy()"
   ]
  },
  {
   "cell_type": "code",
   "execution_count": 2,
   "metadata": {},
   "outputs": [
    {
     "name": "stdout",
     "output_type": "stream",
     "text": [
      "tensor([ 3.0000,  2.2258,  1.4516,  0.6774, -0.0968, -0.8710, -1.6452, -2.4194])\n"
     ]
    }
   ],
   "source": [
    "print(freq)"
   ]
  },
  {
   "cell_type": "code",
   "execution_count": 3,
   "metadata": {},
   "outputs": [
    {
     "data": {
      "text/plain": [
       "'2.0.0+cu118'"
      ]
     },
     "execution_count": 3,
     "metadata": {},
     "output_type": "execute_result"
    }
   ],
   "source": [
    "torch.__version__"
   ]
  },
  {
   "cell_type": "code",
   "execution_count": 4,
   "metadata": {},
   "outputs": [
    {
     "data": {
      "text/plain": [
       "True"
      ]
     },
     "execution_count": 4,
     "metadata": {},
     "output_type": "execute_result"
    }
   ],
   "source": [
    "torch.cuda.is_available()"
   ]
  },
  {
   "attachments": {},
   "cell_type": "markdown",
   "metadata": {},
   "source": [
    "# Error analysis of the whole dataset"
   ]
  },
  {
   "attachments": {},
   "cell_type": "markdown",
   "metadata": {},
   "source": [
    "- The whole error analysis (including all sites and receivers) of the training dataset"
   ]
  },
  {
   "cell_type": "code",
   "execution_count": 5,
   "metadata": {},
   "outputs": [],
   "source": [
    "from numpy import linalg as LA\n",
    "reader_train1 = MatReader(TRAIN_PATH)\n",
    "x_train1 = reader_train1.read_field('sig')\n",
    "y_train_rhoxy = reader_train1.read_field('rhoxy').numpy()\n",
    "y_train_rhoyx = reader_train1.read_field('rhoyx').numpy()\n",
    "nSample = x_train1.shape[0]\n",
    "\n",
    "err_all = np.zeros((nSample, 3))\n",
    "for i in range(nSample):\n",
    "\n",
    "    xTrainNew = x_train1[i,:,:]\n",
    "    result = predict(xTrainNew)\n",
    "    rhoxy_predict = pow(10, result[:,:,0])\n",
    "    rhoyx_predict = pow(10, result[:,:,1])\n",
    "\n",
    "    data1 = y_train_rhoxy[i,::4,:]\n",
    "    data2 = y_train_rhoyx[i,::4,:]\n",
    "    data1 = pow(10, data1)\n",
    "    data2 = pow(10, data2)\n",
    "\n",
    "    rhoxy_predict_all = rhoxy_predict.flatten()\n",
    "    rhoyx_predict_all = rhoyx_predict.flatten()\n",
    "\n",
    "    y_train_rhoxy_all = data1.flatten()\n",
    "    y_train_rhoyx_all = data2.flatten()\n",
    "    \n",
    "    diff1 = (rhoxy_predict_all - y_train_rhoxy_all)/y_train_rhoxy_all*100\n",
    "    err1 = LA.norm(diff1, 2) / len(y_train_rhoxy_all) ** 0.5\n",
    "\n",
    "    diff2 = (rhoyx_predict_all - y_train_rhoyx_all)/y_train_rhoyx_all*100\n",
    "    err2 = LA.norm(diff2, 2) / len(y_train_rhoxy_all) ** 0.5\n",
    "\n",
    "    diff = np.power(diff1, 2) + np.power(diff2, 2)\n",
    "    err = np.sqrt(np.sum(diff)) / (2*len(diff)) ** 0.5\n",
    "    \n",
    "    err_all[i, 0] = err1\n",
    "    err_all[i, 1] = err2\n",
    "    err_all[i, 2] = err"
   ]
  },
  {
   "cell_type": "code",
   "execution_count": 6,
   "metadata": {},
   "outputs": [
    {
     "data": {
      "text/plain": [
       "(336,)"
      ]
     },
     "execution_count": 6,
     "metadata": {},
     "output_type": "execute_result"
    }
   ],
   "source": [
    "diff.shape"
   ]
  },
  {
   "cell_type": "code",
   "execution_count": 7,
   "metadata": {},
   "outputs": [
    {
     "data": {
      "text/plain": [
       "19851"
      ]
     },
     "execution_count": 7,
     "metadata": {},
     "output_type": "execute_result"
    }
   ],
   "source": [
    "err_data = err_all[:,2]\n",
    "len(err_data[err_data>5].flatten())"
   ]
  },
  {
   "cell_type": "code",
   "execution_count": 8,
   "metadata": {},
   "outputs": [
    {
     "data": {
      "text/plain": [
       "10149"
      ]
     },
     "execution_count": 8,
     "metadata": {},
     "output_type": "execute_result"
    }
   ],
   "source": [
    "# < 5% error\n",
    "nSample - len(err_data[err_data>5].flatten())"
   ]
  },
  {
   "cell_type": "code",
   "execution_count": 9,
   "metadata": {},
   "outputs": [
    {
     "name": "stdout",
     "output_type": "stream",
     "text": [
      "error < 5%:  33.830000000000005 %\n"
     ]
    }
   ],
   "source": [
    "print(\"error < 5%: \", (1-len(err_data[err_data>5].flatten())/nSample)*100, \"%\")"
   ]
  },
  {
   "cell_type": "code",
   "execution_count": 10,
   "metadata": {},
   "outputs": [
    {
     "data": {
      "text/plain": [
       "29585"
      ]
     },
     "execution_count": 10,
     "metadata": {},
     "output_type": "execute_result"
    }
   ],
   "source": [
    "# < 10% error\n",
    "nSample - len(err_data[err_data>10].flatten())"
   ]
  },
  {
   "cell_type": "code",
   "execution_count": 11,
   "metadata": {},
   "outputs": [
    {
     "name": "stdout",
     "output_type": "stream",
     "text": [
      "error < 10%:  98.61666666666666 %\n"
     ]
    }
   ],
   "source": [
    "print(\"error < 10%: \", (1-len(err_data[err_data>10].flatten())/nSample)*100, \"%\")"
   ]
  },
  {
   "cell_type": "code",
   "execution_count": 12,
   "metadata": {},
   "outputs": [
    {
     "data": {
      "text/plain": [
       "[<matplotlib.lines.Line2D at 0x7ff072a03970>]"
      ]
     },
     "execution_count": 12,
     "metadata": {},
     "output_type": "execute_result"
    },
    {
     "data": {
      "image/png": "[encoded data removed]",
      "text/plain": [
       "<Figure size 640x480 with 1 Axes>"
      ]
     },
     "metadata": {},
     "output_type": "display_data"
    }
   ],
   "source": [
    "import matplotlib.pyplot as plt\n",
    "import numpy as np\n",
    "\n",
    "%matplotlib inline\n",
    "plt.figure()\n",
    "plt.plot(err_data, 'r*')"
   ]
  },
  {
   "cell_type": "code",
   "execution_count": 19,
   "metadata": {},
   "outputs": [
    {
     "name": "stdout",
     "output_type": "stream",
     "text": [
      "The run time of one single prediction is : 0.003371 seconds\n"
     ]
    }
   ],
   "source": [
    "import time\n",
    "from numpy import linalg as LA\n",
    "reader_train1 = MatReader(TRAIN_PATH)\n",
    "x_train1 = reader_train1.read_field('sig')\n",
    "y_train_rhoxy = reader_train1.read_field('rhoxy').numpy()\n",
    "y_train_rhoyx = reader_train1.read_field('rhoyx').numpy()\n",
    "nSample = 1000\n",
    "\n",
    "start_time = time.time() \n",
    "err_all = np.zeros((nSample, 3))\n",
    "for i in range(nSample):\n",
    "    xTrainNew = x_train1[i,:,:]\n",
    "    result = predict(xTrainNew)\n",
    "end_time = time.time()    \n",
    "run_time = end_time - start_time   \n",
    "print(\"The run time of one single prediction is : %.06f seconds\" %(run_time/nSample))"
   ]
  },
  {
   "cell_type": "markdown",
   "metadata": {},
   "source": [
    "- $R^2$ and $RMSE$ statistics of the training dataset"
   ]
  },
  {
   "cell_type": "code",
   "execution_count": 14,
   "metadata": {},
   "outputs": [
    {
     "data": {
      "text/plain": [
       "(tensor([1.0000e+03, 6.4040e+02, 4.1011e+02, 2.6264e+02, 1.6819e+02, 1.0771e+02,\n",
       "         6.8978e+01, 4.4173e+01, 2.8289e+01, 1.8116e+01, 1.1602e+01, 7.4296e+00,\n",
       "         4.7579e+00, 3.0470e+00, 1.9513e+00, 1.2496e+00, 8.0025e-01, 5.1248e-01,\n",
       "         3.2819e-01, 2.1017e-01, 1.3460e-01, 8.6195e-02, 5.5200e-02, 3.5350e-02,\n",
       "         2.2638e-02, 1.4497e-02, 9.2841e-03, 5.9456e-03, 3.8075e-03, 2.4384e-03,\n",
       "         1.5615e-03, 1.0000e-03]),\n",
       " torch.Size([32]))"
      ]
     },
     "execution_count": 14,
     "metadata": {},
     "output_type": "execute_result"
    }
   ],
   "source": [
    "freq_base, freq_base.shape"
   ]
  },
  {
   "cell_type": "code",
   "execution_count": 15,
   "metadata": {},
   "outputs": [
    {
     "name": "stdout",
     "output_type": "stream",
     "text": [
      "tensor([ 3.0000,  2.2258,  1.4516,  0.6774, -0.0968, -0.8710, -1.6452, -2.4194])\n",
      "tensor([ 2.8065,  2.0323,  1.2581,  0.4839, -0.2903, -1.0645, -1.8387, -2.6129])\n",
      "tensor([ 2.6129,  1.8387,  1.0645,  0.2903, -0.4839, -1.2581, -2.0323, -2.8065])\n",
      "tensor([ 2.4194,  1.6452,  0.8710,  0.0968, -0.6774, -1.4516, -2.2258, -3.0000])\n"
     ]
    }
   ],
   "source": [
    "freq1 = torch.log10(freq_base[0:-1:4])\n",
    "print(freq1)\n",
    "freq2 = torch.log10(freq_base[1:-1:4])\n",
    "print(freq2)\n",
    "freq3 = torch.log10(freq_base[2:-1:4])\n",
    "print(freq3)\n",
    "freq4 = torch.log10(freq_base[3:freq_base.shape[0]+1:4])\n",
    "print(freq4)"
   ]
  },
  {
   "cell_type": "code",
   "execution_count": 16,
   "metadata": {},
   "outputs": [],
   "source": [
    "loc0,locAno     = torch.meshgrid(freq1,obs)\n",
    "loc1 = torch.cat((loc0.reshape(-1,1),locAno.reshape(-1,1)),-1)\n",
    "loc1 = loc1.to(device)\n",
    "def predict1(x, loc=loc1):\n",
    "\n",
    "    x = x.unsqueeze(0).unsqueeze(3)\n",
    "    x = x_normalizer.encode(x)\n",
    "    batch_size = 1\n",
    "    input_size = s_train[2]*s_train[3]\n",
    "    x = x.to(device)\n",
    "    with torch.no_grad():\n",
    "        out = model(loc, x)\n",
    "        out = torch.cat(([out[:,i*input_size:(i+1)*input_size].reshape(batch_size,int(s_train[2]/r_train[2]),int(s_train[3]/r_train[3]),-1) for i in range(n_out)]),-1)\n",
    "        out = y_normalizer.decode(out)\n",
    "    out = out.squeeze()\n",
    "\n",
    "    return out.cpu().numpy()\n",
    "\n",
    "\n",
    "loc0,locAno     = torch.meshgrid(freq2,obs)\n",
    "loc2 = torch.cat((loc0.reshape(-1,1),locAno.reshape(-1,1)),-1)\n",
    "loc2 = loc2.to(device)\n",
    "def predict2(x, loc=loc2):\n",
    "\n",
    "    x = x.unsqueeze(0).unsqueeze(3)\n",
    "    x = x_normalizer.encode(x)\n",
    "    batch_size = 1\n",
    "    input_size = s_train[2]*s_train[3]\n",
    "    x = x.to(device)\n",
    "    with torch.no_grad():\n",
    "        out = model(loc, x)\n",
    "        out = torch.cat(([out[:,i*input_size:(i+1)*input_size].reshape(batch_size,int(s_train[2]/r_train[2]),int(s_train[3]/r_train[3]),-1) for i in range(n_out)]),-1)\n",
    "        out = y_normalizer.decode(out)\n",
    "    out = out.squeeze()\n",
    "\n",
    "    return out.cpu().numpy()\n",
    "\n",
    "\n",
    "loc0,locAno     = torch.meshgrid(freq3,obs)\n",
    "loc3 = torch.cat((loc0.reshape(-1,1),locAno.reshape(-1,1)),-1)\n",
    "loc3 = loc3.to(device)\n",
    "def predict3(x, loc=loc3):\n",
    "\n",
    "    x = x.unsqueeze(0).unsqueeze(3)\n",
    "    x = x_normalizer.encode(x)\n",
    "    batch_size = 1\n",
    "    input_size = s_train[2]*s_train[3]\n",
    "    x = x.to(device)\n",
    "    with torch.no_grad():\n",
    "        out = model(loc, x)\n",
    "        out = torch.cat(([out[:,i*input_size:(i+1)*input_size].reshape(batch_size,int(s_train[2]/r_train[2]),int(s_train[3]/r_train[3]),-1) for i in range(n_out)]),-1)\n",
    "        out = y_normalizer.decode(out)\n",
    "    out = out.squeeze()\n",
    "\n",
    "    return out.cpu().numpy()\n",
    "\n",
    "\n",
    "loc0,locAno     = torch.meshgrid(freq4,obs)\n",
    "loc4 = torch.cat((loc0.reshape(-1,1),locAno.reshape(-1,1)),-1)\n",
    "loc4 = loc4.to(device)\n",
    "def predict4(x, loc=loc4):\n",
    "\n",
    "    x = x.unsqueeze(0).unsqueeze(3)\n",
    "    x = x_normalizer.encode(x)\n",
    "    batch_size = 1\n",
    "    input_size = s_train[2]*s_train[3]\n",
    "    x = x.to(device)\n",
    "    with torch.no_grad():\n",
    "        out = model(loc, x)\n",
    "        out = torch.cat(([out[:,i*input_size:(i+1)*input_size].reshape(batch_size,int(s_train[2]/r_train[2]),int(s_train[3]/r_train[3]),-1) for i in range(n_out)]),-1)\n",
    "        out = y_normalizer.decode(out)\n",
    "    out = out.squeeze()\n",
    "\n",
    "    return out.cpu().numpy()\n"
   ]
  },
  {
   "cell_type": "code",
   "execution_count": 17,
   "metadata": {},
   "outputs": [],
   "source": [
    "from numpy import linalg as LA\n",
    "reader_train1 = MatReader(TRAIN_PATH)\n",
    "x_train1 = reader_train1.read_field('sig')\n",
    "y_train_rhoxy = reader_train1.read_field('rhoxy').numpy()\n",
    "y_train_rhoyx = reader_train1.read_field('rhoyx').numpy()\n",
    "nSample = x_train1.shape[0]\n",
    "\n",
    "(nTol, nFreq, nSite) = y_train_rhoxy.shape\n",
    "nnFreq = np.int64(nFreq/4)\n",
    "\n",
    "err_all = np.zeros((nSample, 3))\n",
    "predict_data1 = np.zeros((nSample, nnFreq, nSite, 2))\n",
    "real_data1 = np.zeros((nSample, nnFreq, nSite, 2))\n",
    "real_data1[:,:,:,0] = pow(10, y_train_rhoxy[:nSample,::4,:])\n",
    "real_data1[:,:,:,1] = pow(10, y_train_rhoyx[:nSample,::4,:])\n",
    "\n",
    "predict_data2 = np.zeros((nSample, nnFreq, nSite, 2))\n",
    "real_data2 = np.zeros((nSample, nnFreq, nSite, 2))\n",
    "real_data2[:,:,:,0] = pow(10, y_train_rhoxy[:nSample,1:-1:4,:])\n",
    "real_data2[:,:,:,1] = pow(10, y_train_rhoyx[:nSample,1:-1:4,:])\n",
    "\n",
    "predict_data3 = np.zeros((nSample, nnFreq, nSite, 2))\n",
    "real_data3 = np.zeros((nSample, nnFreq, nSite, 2))\n",
    "real_data3[:,:,:,0] = pow(10, y_train_rhoxy[:nSample,2:-1:4,:])\n",
    "real_data3[:,:,:,1] = pow(10, y_train_rhoyx[:nSample,2:-1:4,:])\n",
    "\n",
    "predict_data4 = np.zeros((nSample, nnFreq, nSite, 2))\n",
    "real_data4 = np.zeros((nSample, nnFreq, nSite, 2))\n",
    "real_data4[:,:,:,0] = pow(10, y_train_rhoxy[:nSample,3:nFreq+1:4,:])\n",
    "real_data4[:,:,:,1] = pow(10, y_train_rhoyx[:nSample,3:nFreq+1:4,:])\n",
    "\n",
    "for i in range(nSample):\n",
    "\n",
    "    xTrainNew = x_train1[i,:,:]\n",
    "    \n",
    "    result = predict1(xTrainNew)\n",
    "    rhoxy_predict = pow(10, result[:,:,0])\n",
    "    rhoyx_predict = pow(10, result[:,:,1])\n",
    "    predict_data1[i,:,:,0] = rhoxy_predict\n",
    "    predict_data1[i,:,:,1] = rhoyx_predict\n",
    "\n",
    "    result = predict2(xTrainNew)\n",
    "    rhoxy_predict = pow(10, result[:,:,0])\n",
    "    rhoyx_predict = pow(10, result[:,:,1])\n",
    "    predict_data2[i,:,:,0] = rhoxy_predict\n",
    "    predict_data2[i,:,:,1] = rhoyx_predict\n",
    "\n",
    "    result = predict3(xTrainNew)\n",
    "    rhoxy_predict = pow(10, result[:,:,0])\n",
    "    rhoyx_predict = pow(10, result[:,:,1])\n",
    "    predict_data3[i,:,:,0] = rhoxy_predict\n",
    "    predict_data3[i,:,:,1] = rhoyx_predict\n",
    "\n",
    "    result = predict4(xTrainNew)\n",
    "    rhoxy_predict = pow(10, result[:,:,0])\n",
    "    rhoyx_predict = pow(10, result[:,:,1])\n",
    "    predict_data4[i,:,:,0] = rhoxy_predict\n",
    "    predict_data4[i,:,:,1] = rhoyx_predict"
   ]
  },
  {
   "cell_type": "code",
   "execution_count": 18,
   "metadata": {},
   "outputs": [],
   "source": [
    "real_data_reshape1 = real_data1.reshape(nSample, nnFreq, -1)\n",
    "predict_data_reshape1 = predict_data1.reshape(nSample, nnFreq, -1)\n",
    "real_data_reshape2 = real_data2.reshape(nSample, nnFreq, -1)\n",
    "predict_data_reshape2 = predict_data2.reshape(nSample, nnFreq, -1)\n",
    "real_data_reshape3 = real_data3.reshape(nSample, nnFreq, -1)\n",
    "predict_data_reshape3 = predict_data3.reshape(nSample, nnFreq, -1)\n",
    "real_data_reshape4 = real_data4.reshape(nSample, nnFreq, -1)\n",
    "predict_data_reshape4 = predict_data4.reshape(nSample, nnFreq, -1)"
   ]
  },
  {
   "cell_type": "code",
   "execution_count": 19,
   "metadata": {},
   "outputs": [
    {
     "name": "stdout",
     "output_type": "stream",
     "text": [
      "r2=================\n",
      "[0.99939516 0.99924632 0.99895419 0.9987078  0.99826026 0.99876264\n",
      " 0.9991628  0.99929687]\n",
      "[0.99725968 0.99429927 0.98924701 0.98329568 0.98291441 0.98781392\n",
      " 0.99122122 0.99468916]\n",
      "[0.98967673 0.97723015 0.95682036 0.93681167 0.94063798 0.95832722\n",
      " 0.97061089 0.98290834]\n",
      "[0.97491412 0.94461986 0.89761345 0.86149776 0.88154368 0.91555859\n",
      " 0.94146345 0.96635309]\n",
      "\n",
      "rmse=================\n",
      "[0.02254073 0.02381052 0.02550733 0.0255695  0.02901494 0.02696575\n",
      " 0.02572308 0.0271782 ]\n",
      "[0.04750236 0.06416278 0.07956178 0.09037056 0.09230456 0.08762155\n",
      " 0.08651885 0.07698683]\n",
      "[0.09106097 0.12533499 0.155115   0.17399753 0.17591988 0.16810939\n",
      " 0.1642211  0.14197521]\n",
      "[0.13983002 0.19063705 0.23276725 0.25712939 0.25554085 0.24858689\n",
      " 0.23999907 0.20422728]\n",
      "\n",
      "mae=================\n",
      "[0.01707428 0.01765082 0.01889507 0.01919586 0.02220479 0.02075633\n",
      " 0.01971565 0.0207375 ]\n",
      "[0.03671256 0.05115255 0.06650737 0.07764926 0.07901903 0.07294606\n",
      " 0.07017142 0.06156716]\n",
      "[0.0694135  0.10041679 0.13081147 0.15064363 0.15212821 0.14033422\n",
      " 0.1328661  0.11293261]\n",
      "[0.10691125 0.15394251 0.19729097 0.22281828 0.22072807 0.20675088\n",
      " 0.19336831 0.16175529]\n"
     ]
    }
   ],
   "source": [
    "from sklearn.metrics import r2_score, mean_squared_error, mean_absolute_error\n",
    " \n",
    "r2_1 = np.zeros(nnFreq)\n",
    "r2_2 = np.zeros(nnFreq)\n",
    "r2_3 = np.zeros(nnFreq)\n",
    "r2_4 = np.zeros(nnFreq)\n",
    "\n",
    "rmse_1 = np.zeros(nnFreq)\n",
    "rmse_2 = np.zeros(nnFreq)\n",
    "rmse_3 = np.zeros(nnFreq)\n",
    "rmse_4 = np.zeros(nnFreq)\n",
    "\n",
    "mae_1 = np.zeros(nnFreq)\n",
    "mae_2 = np.zeros(nnFreq)\n",
    "mae_3 = np.zeros(nnFreq)\n",
    "mae_4 = np.zeros(nnFreq)\n",
    "\n",
    "r1 = np.log10(real_data_reshape1)\n",
    "p1 = np.log10(predict_data_reshape1)\n",
    "r2 = np.log10(real_data_reshape2)\n",
    "p2 = np.log10(predict_data_reshape2)\n",
    "r3 = np.log10(real_data_reshape3)\n",
    "p3 = np.log10(predict_data_reshape3)\n",
    "r4 = np.log10(real_data_reshape4)\n",
    "p4 = np.log10(predict_data_reshape4)\n",
    "\n",
    "for i in range(nnFreq):\n",
    "    r2_1[i] = r2_score(r1[:,i,:].flatten(), p1[:,i,:].flatten())\n",
    "    r2_2[i] = r2_score(r2[:,i,:].flatten(), p2[:,i,:].flatten())\n",
    "    r2_3[i] = r2_score(r3[:,i,:].flatten(), p3[:,i,:].flatten())\n",
    "    r2_4[i] = r2_score(r4[:,i,:].flatten(), p4[:,i,:].flatten())\n",
    "\n",
    "    rmse_1[i] = mean_squared_error(r1[:,i,:].flatten(), p1[:,i,:].flatten(), squared=False)\n",
    "    rmse_2[i] = mean_squared_error(r2[:,i,:].flatten(), p2[:,i,:].flatten(), squared=False)\n",
    "    rmse_3[i] = mean_squared_error(r3[:,i,:].flatten(), p3[:,i,:].flatten(), squared=False)\n",
    "    rmse_4[i] = mean_squared_error(r4[:,i,:].flatten(), p4[:,i,:].flatten(), squared=False)\n",
    "\n",
    "    mae_1[i] = mean_absolute_error(r1[:,i,:].flatten(), p1[:,i,:].flatten())\n",
    "    mae_2[i] = mean_absolute_error(r2[:,i,:].flatten(), p2[:,i,:].flatten())\n",
    "    mae_3[i] = mean_absolute_error(r3[:,i,:].flatten(), p3[:,i,:].flatten())\n",
    "    mae_4[i] = mean_absolute_error(r4[:,i,:].flatten(), p4[:,i,:].flatten())\n",
    "\n",
    "print(\"r2=================\")\n",
    "print(r2_1)\n",
    "print(r2_2)\n",
    "print(r2_3)\n",
    "print(r2_4)\n",
    "\n",
    "print(\"\\nrmse=================\")\n",
    "print(rmse_1)\n",
    "print(rmse_2)\n",
    "print(rmse_3)\n",
    "print(rmse_4)\n",
    "\n",
    "print(\"\\nmae=================\")\n",
    "print(mae_1)\n",
    "print(mae_2)\n",
    "print(mae_3)\n",
    "print(mae_4)"
   ]
  },
  {
   "cell_type": "code",
   "execution_count": 20,
   "metadata": {},
   "outputs": [
    {
     "name": "stdout",
     "output_type": "stream",
     "text": [
      "[0.99939516 0.99725968 0.98967673 0.97491412 0.99924632 0.99429927\n",
      " 0.97723015 0.94461986 0.99895419 0.98924701 0.95682036 0.89761345\n",
      " 0.9987078  0.98329568 0.93681167 0.86149776 0.99826026 0.98291441\n",
      " 0.94063798 0.88154368 0.99876264 0.98781392 0.95832722 0.91555859\n",
      " 0.9991628  0.99122122 0.97061089 0.94146345 0.99929687 0.99468916\n",
      " 0.98290834 0.96635309]\n",
      "[0.02254073 0.04750236 0.09106097 0.13983002 0.02381052 0.06416278\n",
      " 0.12533499 0.19063705 0.02550733 0.07956178 0.155115   0.23276725\n",
      " 0.0255695  0.09037056 0.17399753 0.25712939 0.02901494 0.09230456\n",
      " 0.17591988 0.25554085 0.02696575 0.08762155 0.16810939 0.24858689\n",
      " 0.02572308 0.08651885 0.1642211  0.23999907 0.0271782  0.07698683\n",
      " 0.14197521 0.20422728]\n",
      "[0.01707428 0.03671256 0.0694135  0.10691125 0.01765082 0.05115255\n",
      " 0.10041679 0.15394251 0.01889507 0.06650737 0.13081147 0.19729097\n",
      " 0.01919586 0.07764926 0.15064363 0.22281828 0.02220479 0.07901903\n",
      " 0.15212821 0.22072807 0.02075633 0.07294606 0.14033422 0.20675088\n",
      " 0.01971565 0.07017142 0.1328661  0.19336831 0.0207375  0.06156716\n",
      " 0.11293261 0.16175529]\n"
     ]
    },
    {
     "data": {
      "text/plain": [
       "<matplotlib.legend.Legend at 0x7fee901ddfa0>"
      ]
     },
     "execution_count": 20,
     "metadata": {},
     "output_type": "execute_result"
    },
    {
     "data": {
      "image/png": "[encoded data removed]",
      "text/plain": [
       "<Figure size 640x480 with 1 Axes>"
      ]
     },
     "metadata": {},
     "output_type": "display_data"
    }
   ],
   "source": [
    "r2 = np.zeros(nFreq)\n",
    "for i in range(nnFreq):\n",
    "    r2[4*i] = r2_1[i]\n",
    "    r2[4*i+1] = r2_2[i]\n",
    "    r2[4*i+2] = r2_3[i]\n",
    "    r2[4*i+3] = r2_4[i]\n",
    "\n",
    "rmse= np.zeros(nFreq)\n",
    "for i in range(nnFreq):\n",
    "    rmse[4*i] = rmse_1[i]\n",
    "    rmse[4*i+1] = rmse_2[i]\n",
    "    rmse[4*i+2] = rmse_3[i]\n",
    "    rmse[4*i+3] = rmse_4[i]\n",
    "\n",
    "mae = np.zeros(nFreq)\n",
    "for i in range(nnFreq):\n",
    "    mae[4*i] = mae_1[i]\n",
    "    mae[4*i+1] = mae_2[i]\n",
    "    mae[4*i+2] = mae_3[i]\n",
    "    mae[4*i+3] = mae_4[i]\n",
    "\n",
    "print(r2)\n",
    "print(rmse)\n",
    "print(mae)\n",
    "\n",
    "import matplotlib.pyplot as plt\n",
    "import numpy as np\n",
    "\n",
    "%matplotlib inline\n",
    "plt.figure()\n",
    "plt.plot(r2)\n",
    "plt.plot(rmse)\n",
    "plt.plot(mae)\n",
    "plt.legend(['r2', 'rmse', 'mae'], )"
   ]
  },
  {
   "cell_type": "markdown",
   "metadata": {},
   "source": [
    "- $R^2$, $RMSE$ and $MAE$ statistics of the test dataset"
   ]
  },
  {
   "cell_type": "code",
   "execution_count": 21,
   "metadata": {},
   "outputs": [],
   "source": [
    "from numpy import linalg as LA\n",
    "read_test1 = MatReader(TEST_PATH) # test dataset\n",
    "x_test1 = read_test1.read_field('sig')\n",
    "y_test_rhoxy = read_test1.read_field('rhoxy').numpy()\n",
    "y_test_rhoyx = read_test1.read_field('rhoyx').numpy()\n",
    "nSample = x_test1.shape[0]\n",
    "\n",
    "(nTol, nFreq, nSite) = y_test_rhoxy.shape\n",
    "nnFreq = np.int64(nFreq/4)\n",
    "\n",
    "err_all = np.zeros((nSample, 3))\n",
    "predict_data1 = np.zeros((nSample, nnFreq, nSite, 2))\n",
    "real_data1 = np.zeros((nSample, nnFreq, nSite, 2))\n",
    "real_data1[:,:,:,0] = pow(10, y_test_rhoxy[:nSample,::4,:])\n",
    "real_data1[:,:,:,1] = pow(10, y_test_rhoyx[:nSample,::4,:])\n",
    "\n",
    "predict_data2 = np.zeros((nSample, nnFreq, nSite, 2))\n",
    "real_data2 = np.zeros((nSample, nnFreq, nSite, 2))\n",
    "real_data2[:,:,:,0] = pow(10, y_test_rhoxy[:nSample,1:-1:4,:])\n",
    "real_data2[:,:,:,1] = pow(10, y_test_rhoyx[:nSample,1:-1:4,:])\n",
    "\n",
    "predict_data3 = np.zeros((nSample, nnFreq, nSite, 2))\n",
    "real_data3 = np.zeros((nSample, nnFreq, nSite, 2))\n",
    "real_data3[:,:,:,0] = pow(10, y_test_rhoxy[:nSample,2:-1:4,:])\n",
    "real_data3[:,:,:,1] = pow(10, y_test_rhoyx[:nSample,2:-1:4,:])\n",
    "\n",
    "predict_data4 = np.zeros((nSample, nnFreq, nSite, 2))\n",
    "real_data4 = np.zeros((nSample, nnFreq, nSite, 2))\n",
    "real_data4[:,:,:,0] = pow(10, y_test_rhoxy[:nSample,3:nFreq+1:4,:])\n",
    "real_data4[:,:,:,1] = pow(10, y_test_rhoyx[:nSample,3:nFreq+1:4,:])\n",
    "\n",
    "for i in range(nSample):\n",
    "\n",
    "    xTestNew = x_test1[i,:,:]\n",
    "    \n",
    "    result = predict1(xTestNew)\n",
    "    rhoxy_predict = pow(10, result[:,:,0])\n",
    "    rhoyx_predict = pow(10, result[:,:,1])\n",
    "    predict_data1[i,:,:,0] = rhoxy_predict\n",
    "    predict_data1[i,:,:,1] = rhoyx_predict\n",
    "\n",
    "    result = predict2(xTestNew)\n",
    "    rhoxy_predict = pow(10, result[:,:,0])\n",
    "    rhoyx_predict = pow(10, result[:,:,1])\n",
    "    predict_data2[i,:,:,0] = rhoxy_predict\n",
    "    predict_data2[i,:,:,1] = rhoyx_predict\n",
    "\n",
    "    result = predict3(xTestNew)\n",
    "    rhoxy_predict = pow(10, result[:,:,0])\n",
    "    rhoyx_predict = pow(10, result[:,:,1])\n",
    "    predict_data3[i,:,:,0] = rhoxy_predict\n",
    "    predict_data3[i,:,:,1] = rhoyx_predict\n",
    "\n",
    "    result = predict4(xTestNew)\n",
    "    rhoxy_predict = pow(10, result[:,:,0])\n",
    "    rhoyx_predict = pow(10, result[:,:,1])\n",
    "    predict_data4[i,:,:,0] = rhoxy_predict\n",
    "    predict_data4[i,:,:,1] = rhoyx_predict"
   ]
  },
  {
   "cell_type": "code",
   "execution_count": 22,
   "metadata": {},
   "outputs": [],
   "source": [
    "real_data_reshape1 = real_data1.reshape(nSample, nnFreq, -1)\n",
    "predict_data_reshape1 = predict_data1.reshape(nSample, nnFreq, -1)\n",
    "real_data_reshape2 = real_data2.reshape(nSample, nnFreq, -1)\n",
    "predict_data_reshape2 = predict_data2.reshape(nSample, nnFreq, -1)\n",
    "real_data_reshape3 = real_data3.reshape(nSample, nnFreq, -1)\n",
    "predict_data_reshape3 = predict_data3.reshape(nSample, nnFreq, -1)\n",
    "real_data_reshape4 = real_data4.reshape(nSample, nnFreq, -1)\n",
    "predict_data_reshape4 = predict_data4.reshape(nSample, nnFreq, -1)"
   ]
  },
  {
   "cell_type": "code",
   "execution_count": 23,
   "metadata": {},
   "outputs": [
    {
     "name": "stdout",
     "output_type": "stream",
     "text": [
      "r2=================\n",
      "[0.99929717 0.99913267 0.99880208 0.9984279  0.9978883  0.9982865\n",
      " 0.99860006 0.99866312]\n",
      "[0.99712847 0.99401871 0.98872706 0.98281504 0.9824644  0.9871616\n",
      " 0.99050629 0.993973  ]\n",
      "[0.98940624 0.97632587 0.95514211 0.93594932 0.9400632  0.95712288\n",
      " 0.96949211 0.98203199]\n",
      "[0.97429829 0.94237491 0.89407722 0.86041693 0.88081228 0.91348311\n",
      " 0.93979443 0.96529001]\n",
      "\n",
      "rmse=================\n",
      "[0.02426525 0.02542944 0.02706551 0.02795282 0.03187193 0.03176812\n",
      " 0.03334093 0.03757635]\n",
      "[0.04853134 0.06536424 0.08070641 0.0909369  0.09337286 0.09006439\n",
      " 0.09020212 0.08222629]\n",
      "[0.09200003 0.12696593 0.15658501 0.17404854 0.17671564 0.17081364\n",
      " 0.16776509 0.14592349]\n",
      "[0.1410405  0.1929856  0.23451936 0.25691629 0.25647738 0.25213804\n",
      " 0.24405783 0.20788781]\n",
      "\n",
      "mae=================\n",
      "[0.01835793 0.01883843 0.02006105 0.02089649 0.02417056 0.02391964\n",
      " 0.02458637 0.02728431]\n",
      "[0.037602   0.05225765 0.06752269 0.07799656 0.0797168  0.07490553\n",
      " 0.07305309 0.06587621]\n",
      "[0.0704255  0.10203994 0.13238554 0.15060562 0.15279133 0.14279852\n",
      " 0.13598865 0.11696155]\n",
      "[0.1083093  0.15629462 0.19936583 0.22270346 0.22152147 0.21013247\n",
      " 0.19723693 0.16601865]\n"
     ]
    }
   ],
   "source": [
    "from sklearn.metrics import r2_score, mean_squared_error, mean_absolute_error\n",
    " \n",
    "r2_1 = np.zeros(nnFreq)\n",
    "r2_2 = np.zeros(nnFreq)\n",
    "r2_3 = np.zeros(nnFreq)\n",
    "r2_4 = np.zeros(nnFreq)\n",
    "\n",
    "rmse_1 = np.zeros(nnFreq)\n",
    "rmse_2 = np.zeros(nnFreq)\n",
    "rmse_3 = np.zeros(nnFreq)\n",
    "rmse_4 = np.zeros(nnFreq)\n",
    "\n",
    "mae_1 = np.zeros(nnFreq)\n",
    "mae_2 = np.zeros(nnFreq)\n",
    "mae_3 = np.zeros(nnFreq)\n",
    "mae_4 = np.zeros(nnFreq)\n",
    "\n",
    "r1 = np.log10(real_data_reshape1)\n",
    "p1 = np.log10(predict_data_reshape1)\n",
    "r2 = np.log10(real_data_reshape2)\n",
    "p2 = np.log10(predict_data_reshape2)\n",
    "r3 = np.log10(real_data_reshape3)\n",
    "p3 = np.log10(predict_data_reshape3)\n",
    "r4 = np.log10(real_data_reshape4)\n",
    "p4 = np.log10(predict_data_reshape4)\n",
    "\n",
    "for i in range(nnFreq):\n",
    "    r2_1[i] = r2_score(r1[:,i,:].flatten(), p1[:,i,:].flatten())\n",
    "    r2_2[i] = r2_score(r2[:,i,:].flatten(), p2[:,i,:].flatten())\n",
    "    r2_3[i] = r2_score(r3[:,i,:].flatten(), p3[:,i,:].flatten())\n",
    "    r2_4[i] = r2_score(r4[:,i,:].flatten(), p4[:,i,:].flatten())\n",
    "\n",
    "    rmse_1[i] = mean_squared_error(r1[:,i,:].flatten(), p1[:,i,:].flatten(), squared=False)\n",
    "    rmse_2[i] = mean_squared_error(r2[:,i,:].flatten(), p2[:,i,:].flatten(), squared=False)\n",
    "    rmse_3[i] = mean_squared_error(r3[:,i,:].flatten(), p3[:,i,:].flatten(), squared=False)\n",
    "    rmse_4[i] = mean_squared_error(r4[:,i,:].flatten(), p4[:,i,:].flatten(), squared=False)\n",
    "\n",
    "    mae_1[i] = mean_absolute_error(r1[:,i,:].flatten(), p1[:,i,:].flatten())\n",
    "    mae_2[i] = mean_absolute_error(r2[:,i,:].flatten(), p2[:,i,:].flatten())\n",
    "    mae_3[i] = mean_absolute_error(r3[:,i,:].flatten(), p3[:,i,:].flatten())\n",
    "    mae_4[i] = mean_absolute_error(r4[:,i,:].flatten(), p4[:,i,:].flatten())\n",
    "\n",
    "print(\"r2=================\")\n",
    "print(r2_1)\n",
    "print(r2_2)\n",
    "print(r2_3)\n",
    "print(r2_4)\n",
    "\n",
    "print(\"\\nrmse=================\")\n",
    "print(rmse_1)\n",
    "print(rmse_2)\n",
    "print(rmse_3)\n",
    "print(rmse_4)\n",
    "\n",
    "print(\"\\nmae=================\")\n",
    "print(mae_1)\n",
    "print(mae_2)\n",
    "print(mae_3)\n",
    "print(mae_4)"
   ]
  },
  {
   "cell_type": "code",
   "execution_count": 24,
   "metadata": {},
   "outputs": [
    {
     "name": "stdout",
     "output_type": "stream",
     "text": [
      "[0.99929717 0.99712847 0.98940624 0.97429829 0.99913267 0.99401871\n",
      " 0.97632587 0.94237491 0.99880208 0.98872706 0.95514211 0.89407722\n",
      " 0.9984279  0.98281504 0.93594932 0.86041693 0.9978883  0.9824644\n",
      " 0.9400632  0.88081228 0.9982865  0.9871616  0.95712288 0.91348311\n",
      " 0.99860006 0.99050629 0.96949211 0.93979443 0.99866312 0.993973\n",
      " 0.98203199 0.96529001]\n",
      "[0.02426525 0.04853134 0.09200003 0.1410405  0.02542944 0.06536424\n",
      " 0.12696593 0.1929856  0.02706551 0.08070641 0.15658501 0.23451936\n",
      " 0.02795282 0.0909369  0.17404854 0.25691629 0.03187193 0.09337286\n",
      " 0.17671564 0.25647738 0.03176812 0.09006439 0.17081364 0.25213804\n",
      " 0.03334093 0.09020212 0.16776509 0.24405783 0.03757635 0.08222629\n",
      " 0.14592349 0.20788781]\n",
      "[0.01835793 0.037602   0.0704255  0.1083093  0.01883843 0.05225765\n",
      " 0.10203994 0.15629462 0.02006105 0.06752269 0.13238554 0.19936583\n",
      " 0.02089649 0.07799656 0.15060562 0.22270346 0.02417056 0.0797168\n",
      " 0.15279133 0.22152147 0.02391964 0.07490553 0.14279852 0.21013247\n",
      " 0.02458637 0.07305309 0.13598865 0.19723693 0.02728431 0.06587621\n",
      " 0.11696155 0.16601865]\n"
     ]
    },
    {
     "data": {
      "text/plain": [
       "<matplotlib.legend.Legend at 0x7fee90142730>"
      ]
     },
     "execution_count": 24,
     "metadata": {},
     "output_type": "execute_result"
    },
    {
     "data": {
      "image/png": "[encoded data removed]",
      "text/plain": [
       "<Figure size 640x480 with 1 Axes>"
      ]
     },
     "metadata": {},
     "output_type": "display_data"
    }
   ],
   "source": [
    "r2 = np.zeros(nFreq)\n",
    "for i in range(nnFreq):\n",
    "    r2[4*i] = r2_1[i]\n",
    "    r2[4*i+1] = r2_2[i]\n",
    "    r2[4*i+2] = r2_3[i]\n",
    "    r2[4*i+3] = r2_4[i]\n",
    "\n",
    "rmse= np.zeros(nFreq)\n",
    "for i in range(nnFreq):\n",
    "    rmse[4*i] = rmse_1[i]\n",
    "    rmse[4*i+1] = rmse_2[i]\n",
    "    rmse[4*i+2] = rmse_3[i]\n",
    "    rmse[4*i+3] = rmse_4[i]\n",
    "\n",
    "mae = np.zeros(nFreq)\n",
    "for i in range(nnFreq):\n",
    "    mae[4*i] = mae_1[i]\n",
    "    mae[4*i+1] = mae_2[i]\n",
    "    mae[4*i+2] = mae_3[i]\n",
    "    mae[4*i+3] = mae_4[i]\n",
    "\n",
    "print(r2)\n",
    "print(rmse)\n",
    "print(mae)\n",
    "\n",
    "import matplotlib.pyplot as plt\n",
    "import numpy as np\n",
    "\n",
    "%matplotlib inline\n",
    "plt.figure()\n",
    "plt.plot(r2)\n",
    "plt.plot(rmse)\n",
    "plt.plot(mae)\n",
    "plt.legend(['r2', 'rmse', 'mae'], )"
   ]
  },
  {
   "cell_type": "markdown",
   "metadata": {},
   "source": [
    "- The No. 502 sample of the test dataset"
   ]
  },
  {
   "cell_type": "code",
   "execution_count": 25,
   "metadata": {},
   "outputs": [
    {
     "name": "stdout",
     "output_type": "stream",
     "text": [
      "[5.83596462 7.7759028  6.87470562]\n"
     ]
    }
   ],
   "source": [
    "from numpy import linalg as LA\n",
    "reader_test1 = MatReader(TEST_PATH)\n",
    "x_test1 = reader_test1.read_field('sig')\n",
    "y_test_rhoxy = reader_test1.read_field('rhoxy').numpy()\n",
    "y_test_rhoyx = reader_test1.read_field('rhoyx').numpy()\n",
    "\n",
    "err_single = np.zeros((3))\n",
    "\n",
    "# select sample\n",
    "i = 501\n",
    "\n",
    "xtestNew = x_test1[i,:,:]\n",
    "result = predict(xtestNew)\n",
    "rhoxy_predict = pow(10, result[:,:,0])\n",
    "rhoyx_predict = pow(10, result[:,:,1])\n",
    "\n",
    "data1 = y_test_rhoxy[i,::4,:]\n",
    "data2 = y_test_rhoyx[i,::4,:]\n",
    "data1 = pow(10, data1)\n",
    "data2 = pow(10, data2)\n",
    "\n",
    "rhoxy_predict_all = rhoxy_predict.flatten()\n",
    "rhoyx_predict_all = rhoyx_predict.flatten()\n",
    "\n",
    "y_test_rhoxy_all = data1.flatten()\n",
    "y_test_rhoyx_all = data2.flatten()\n",
    "    \n",
    "diff1 = (rhoxy_predict_all - y_test_rhoxy_all)/y_test_rhoxy_all*100\n",
    "err1 = LA.norm(diff1, 2) / len(y_test_rhoxy_all) ** 0.5\n",
    "\n",
    "diff2 = (rhoyx_predict_all - y_test_rhoyx_all)/y_test_rhoyx_all*100\n",
    "err2 = LA.norm(diff2, 2) / len(y_test_rhoxy_all) ** 0.5\n",
    "\n",
    "diff = np.power(diff1, 2) + np.power(diff2, 2)\n",
    "err = np.sqrt(np.sum(diff)) / (2*len(diff)) ** 0.5\n",
    "    \n",
    "err_single[0] = err1\n",
    "err_single[1] = err2\n",
    "err_single[2] = err\n",
    "\n",
    "EFNO_rhoxy_predict = rhoxy_predict\n",
    "EFNO_rhoyx_predict = rhoyx_predict\n",
    "\n",
    "EFNO_rhoxy_real = data1\n",
    "EFNO_rhoyx_real = data2\n",
    "\n",
    "print(err_single)"
   ]
  },
  {
   "cell_type": "markdown",
   "metadata": {},
   "source": [
    "- The No. $2501$ sample of the test dataset"
   ]
  },
  {
   "cell_type": "code",
   "execution_count": 26,
   "metadata": {},
   "outputs": [
    {
     "name": "stdout",
     "output_type": "stream",
     "text": [
      "[5.42811175 8.19490239 6.95056939]\n"
     ]
    }
   ],
   "source": [
    "from numpy import linalg as LA\n",
    "reader_test1 = MatReader(TEST_PATH)\n",
    "x_test1 = reader_test1.read_field('sig')\n",
    "y_test_rhoxy = reader_test1.read_field('rhoxy').numpy()\n",
    "y_test_rhoyx = reader_test1.read_field('rhoyx').numpy()\n",
    "\n",
    "err_single = np.zeros((3))\n",
    "\n",
    "# select sample\n",
    "i = 2500\n",
    "\n",
    "xtestNew = x_test1[i,:,:]\n",
    "result = predict(xtestNew)\n",
    "rhoxy_predict = pow(10, result[:,:,0])\n",
    "rhoyx_predict = pow(10, result[:,:,1])\n",
    "\n",
    "data1 = y_test_rhoxy[i,::4,:]\n",
    "data2 = y_test_rhoyx[i,::4,:]\n",
    "data1 = pow(10, data1)\n",
    "data2 = pow(10, data2)\n",
    "\n",
    "rhoxy_predict_all = rhoxy_predict.flatten()\n",
    "rhoyx_predict_all = rhoyx_predict.flatten()\n",
    "\n",
    "y_test_rhoxy_all = data1.flatten()\n",
    "y_test_rhoyx_all = data2.flatten()\n",
    "    \n",
    "diff1 = (rhoxy_predict_all - y_test_rhoxy_all)/y_test_rhoxy_all*100\n",
    "err1 = LA.norm(diff1, 2) / len(y_test_rhoxy_all) ** 0.5\n",
    "\n",
    "diff2 = (rhoyx_predict_all - y_test_rhoyx_all)/y_test_rhoyx_all*100\n",
    "err2 = LA.norm(diff2, 2) / len(y_test_rhoxy_all) ** 0.5\n",
    "\n",
    "diff = np.power(diff1, 2) + np.power(diff2, 2)\n",
    "err = np.sqrt(np.sum(diff)) / (2*len(diff)) ** 0.5\n",
    "    \n",
    "err_single[0] = err1\n",
    "err_single[1] = err2\n",
    "err_single[2] = err\n",
    "\n",
    "EFNO_rhoxy_predict = rhoxy_predict\n",
    "EFNO_rhoyx_predict = rhoyx_predict\n",
    "\n",
    "EFNO_rhoxy_real = data1\n",
    "EFNO_rhoyx_real = data2\n",
    "\n",
    "print(err_single)"
   ]
  },
  {
   "cell_type": "code",
   "execution_count": 18,
   "metadata": {},
   "outputs": [],
   "source": [
    "# save data to mat file\n",
    "import scipy.io as sio\n",
    "\n",
    "sio.savemat('EFNO_predict.mat', {'EFNO_rhoxy_predict':EFNO_rhoxy_predict, \n",
    "                                   'EFNO_rhoyx_predict':EFNO_rhoyx_predict, \n",
    "                                   'EFNO_rhoxy_real':EFNO_rhoxy_real, \n",
    "                                   'EFNO_rhoyx_real':EFNO_rhoyx_real})"
   ]
  },
  {
   "cell_type": "markdown",
   "metadata": {},
   "source": [
    "- The No. $2066$ sample of the test dataset"
   ]
  },
  {
   "cell_type": "code",
   "execution_count": 27,
   "metadata": {},
   "outputs": [
    {
     "name": "stdout",
     "output_type": "stream",
     "text": [
      "[ 9.85222758 19.43638772 15.40843242]\n"
     ]
    }
   ],
   "source": [
    "from numpy import linalg as LA\n",
    "reader_test1 = MatReader(TEST_PATH)\n",
    "x_test1 = reader_test1.read_field('sig')\n",
    "y_test_rhoxy = reader_test1.read_field('rhoxy').numpy()\n",
    "y_test_rhoyx = reader_test1.read_field('rhoyx').numpy()\n",
    "\n",
    "err_single = np.zeros((3))\n",
    "\n",
    "# select sample\n",
    "i = 2065\n",
    "\n",
    "xtestNew = x_test1[i,:,:]\n",
    "result = predict(xtestNew)\n",
    "rhoxy_predict = pow(10, result[:,:,0])\n",
    "rhoyx_predict = pow(10, result[:,:,1])\n",
    "\n",
    "data1 = y_test_rhoxy[i,::4,:]\n",
    "data2 = y_test_rhoyx[i,::4,:]\n",
    "data1 = pow(10, data1)\n",
    "data2 = pow(10, data2)\n",
    "\n",
    "rhoxy_predict_all = rhoxy_predict.flatten()\n",
    "rhoyx_predict_all = rhoyx_predict.flatten()\n",
    "\n",
    "y_test_rhoxy_all = data1.flatten()\n",
    "y_test_rhoyx_all = data2.flatten()\n",
    "    \n",
    "diff1 = (rhoxy_predict_all - y_test_rhoxy_all)/y_test_rhoxy_all*100\n",
    "err1 = LA.norm(diff1, 2) / len(y_test_rhoxy_all) ** 0.5\n",
    "\n",
    "diff2 = (rhoyx_predict_all - y_test_rhoyx_all)/y_test_rhoyx_all*100\n",
    "err2 = LA.norm(diff2, 2) / len(y_test_rhoxy_all) ** 0.5\n",
    "\n",
    "diff = np.power(diff1, 2) + np.power(diff2, 2)\n",
    "err = np.sqrt(np.sum(diff)) / (2*len(diff)) ** 0.5\n",
    "    \n",
    "err_single[0] = err1\n",
    "err_single[1] = err2\n",
    "err_single[2] = err\n",
    "\n",
    "EFNO_rhoxy_predict = rhoxy_predict\n",
    "EFNO_rhoyx_predict = rhoyx_predict\n",
    "\n",
    "EFNO_rhoxy_real = data1\n",
    "EFNO_rhoyx_real = data2\n",
    "\n",
    "print(err_single)"
   ]
  },
  {
   "cell_type": "code",
   "execution_count": 20,
   "metadata": {},
   "outputs": [],
   "source": [
    "# save data to mat file\n",
    "import scipy.io as sio\n",
    "\n",
    "sio.savemat('EFNO_predict_site.mat', {'EFNO_rhoxy_site_predict':EFNO_rhoxy_predict, \n",
    "                                   'EFNO_rhoyx_site_predict':EFNO_rhoyx_predict, \n",
    "                                   'EFNO_rhoxy_site_real':EFNO_rhoxy_real, \n",
    "                                   'EFNO_rhoyx_site_real':EFNO_rhoyx_real})"
   ]
  },
  {
   "cell_type": "markdown",
   "metadata": {},
   "source": [
    "- The whole error analysis (including all sites and receivers) of the validate dataset"
   ]
  },
  {
   "cell_type": "code",
   "execution_count": 28,
   "metadata": {},
   "outputs": [],
   "source": [
    "from numpy import linalg as LA\n",
    "reader_val = MatReader(VAL_PATH)\n",
    "x_val = reader_val.read_field('sig')\n",
    "y_test_rhoxy = reader_val.read_field('rhoxy').numpy()\n",
    "y_test_rhoyx = reader_val.read_field('rhoyx').numpy()\n",
    "nSample = x_val.shape[0]\n",
    "\n",
    "err_all = np.zeros((nSample, 3))\n",
    "for i in range(nSample):\n",
    "\n",
    "    xvalNew = x_val[i,:,:]\n",
    "    result = predict(xvalNew)\n",
    "    rhoxy_predict = pow(10, result[:,:,0])\n",
    "    rhoyx_predict = pow(10, result[:,:,1])\n",
    "\n",
    "    data1 = y_test_rhoxy[i,::4,:]\n",
    "    data2 = y_test_rhoyx[i,::4,:]\n",
    "    data1 = pow(10, data1)\n",
    "    data2 = pow(10, data2)\n",
    "\n",
    "    rhoxy_predict_all = rhoxy_predict.flatten()\n",
    "    rhoyx_predict_all = rhoyx_predict.flatten()\n",
    "\n",
    "    y_test_rhoxy_all = data1.flatten()\n",
    "    y_test_rhoyx_all = data2.flatten()\n",
    "    \n",
    "    diff1 = (rhoxy_predict_all - y_test_rhoxy_all)/y_test_rhoxy_all*100\n",
    "    err1 = LA.norm(diff1, 2) / len(y_test_rhoxy_all) ** 0.5\n",
    "\n",
    "    diff2 = (rhoyx_predict_all - y_test_rhoyx_all)/y_test_rhoyx_all*100\n",
    "    err2 = LA.norm(diff2, 2) / len(y_test_rhoxy_all) ** 0.5\n",
    "\n",
    "    diff = np.power(diff1, 2) + np.power(diff2, 2)\n",
    "    err = np.sqrt(np.sum(diff)) / (2*len(diff)) ** 0.5\n",
    "    \n",
    "    err_all[i, 0] = err1\n",
    "    err_all[i, 1] = err2\n",
    "    err_all[i, 2] = err"
   ]
  },
  {
   "cell_type": "code",
   "execution_count": 29,
   "metadata": {},
   "outputs": [
    {
     "data": {
      "text/plain": [
       "2384"
      ]
     },
     "execution_count": 29,
     "metadata": {},
     "output_type": "execute_result"
    }
   ],
   "source": [
    "err_data_new = err_all[:,2]\n",
    "len(err_data_new[err_data_new>5].flatten())"
   ]
  },
  {
   "cell_type": "code",
   "execution_count": 30,
   "metadata": {},
   "outputs": [
    {
     "data": {
      "text/plain": [
       "616"
      ]
     },
     "execution_count": 30,
     "metadata": {},
     "output_type": "execute_result"
    }
   ],
   "source": [
    "# <5% error\n",
    "nSample - len(err_data_new[err_data_new>5].flatten())"
   ]
  },
  {
   "cell_type": "code",
   "execution_count": 31,
   "metadata": {},
   "outputs": [
    {
     "name": "stdout",
     "output_type": "stream",
     "text": [
      "error < 5%:  20.53333333333334 %\n"
     ]
    }
   ],
   "source": [
    "print(\"error < 5%: \", (1-len(err_data_new[err_data_new>5].flatten())/nSample)*100, \"%\")"
   ]
  },
  {
   "cell_type": "code",
   "execution_count": 32,
   "metadata": {},
   "outputs": [
    {
     "data": {
      "text/plain": [
       "2824"
      ]
     },
     "execution_count": 32,
     "metadata": {},
     "output_type": "execute_result"
    }
   ],
   "source": [
    "# <10% error\n",
    "nSample - len(err_data_new[err_data_new>10].flatten())"
   ]
  },
  {
   "cell_type": "code",
   "execution_count": 33,
   "metadata": {},
   "outputs": [
    {
     "name": "stdout",
     "output_type": "stream",
     "text": [
      "error < 10%:  94.13333333333334 %\n"
     ]
    }
   ],
   "source": [
    "print(\"error < 10%: \", (1-len(err_data_new[err_data_new>10].flatten())/nSample)*100, \"%\")"
   ]
  },
  {
   "cell_type": "code",
   "execution_count": 34,
   "metadata": {},
   "outputs": [
    {
     "data": {
      "text/plain": [
       "[<matplotlib.lines.Line2D at 0x7fee90134d00>]"
      ]
     },
     "execution_count": 34,
     "metadata": {},
     "output_type": "execute_result"
    },
    {
     "data": {
      "image/png": "[encoded data removed]",
      "text/plain": [
       "<Figure size 640x480 with 1 Axes>"
      ]
     },
     "metadata": {},
     "output_type": "display_data"
    }
   ],
   "source": [
    "import matplotlib.pyplot as plt\n",
    "import numpy as np\n",
    "\n",
    "%matplotlib inline\n",
    "plt.figure()\n",
    "plt.plot(err_data_new, 'b*')"
   ]
  },
  {
   "attachments": {},
   "cell_type": "markdown",
   "metadata": {},
   "source": [
    "- The whole error analysis (including all sites and receivers) of the test dataset"
   ]
  },
  {
   "cell_type": "code",
   "execution_count": 35,
   "metadata": {},
   "outputs": [],
   "source": [
    "from numpy import linalg as LA\n",
    "reader_test1 = MatReader(TEST_PATH)\n",
    "x_test1 = reader_test1.read_field('sig')\n",
    "y_test_rhoxy = reader_test1.read_field('rhoxy').numpy()\n",
    "y_test_rhoyx = reader_test1.read_field('rhoyx').numpy()\n",
    "nSample = x_test1.shape[0]\n",
    "\n",
    "err_all = np.zeros((nSample, 3))\n",
    "for i in range(nSample):\n",
    "\n",
    "    xtestNew = x_test1[i,:,:]\n",
    "    result = predict(xtestNew)\n",
    "    rhoxy_predict = pow(10, result[:,:,0])\n",
    "    rhoyx_predict = pow(10, result[:,:,1])\n",
    "\n",
    "    data1 = y_test_rhoxy[i,::4,:]\n",
    "    data2 = y_test_rhoyx[i,::4,:]\n",
    "    data1 = pow(10, data1)\n",
    "    data2 = pow(10, data2)\n",
    "\n",
    "    rhoxy_predict_all = rhoxy_predict.flatten()\n",
    "    rhoyx_predict_all = rhoyx_predict.flatten()\n",
    "\n",
    "    y_test_rhoxy_all = data1.flatten()\n",
    "    y_test_rhoyx_all = data2.flatten()\n",
    "    \n",
    "    diff1 = (rhoxy_predict_all - y_test_rhoxy_all)/y_test_rhoxy_all*100\n",
    "    err1 = LA.norm(diff1, 2) / len(y_test_rhoxy_all) ** 0.5\n",
    "\n",
    "    diff2 = (rhoyx_predict_all - y_test_rhoyx_all)/y_test_rhoyx_all*100\n",
    "    err2 = LA.norm(diff2, 2) / len(y_test_rhoxy_all) ** 0.5\n",
    "\n",
    "    diff = np.power(diff1, 2) + np.power(diff2, 2)\n",
    "    err = np.sqrt(np.sum(diff)) / (2*len(diff)) ** 0.5\n",
    "    \n",
    "    err_all[i, 0] = err1\n",
    "    err_all[i, 1] = err2\n",
    "    err_all[i, 2] = err\n"
   ]
  },
  {
   "cell_type": "code",
   "execution_count": 36,
   "metadata": {},
   "outputs": [
    {
     "data": {
      "text/plain": [
       "(336,)"
      ]
     },
     "execution_count": 36,
     "metadata": {},
     "output_type": "execute_result"
    }
   ],
   "source": [
    "diff.shape"
   ]
  },
  {
   "cell_type": "code",
   "execution_count": 37,
   "metadata": {},
   "outputs": [
    {
     "data": {
      "text/plain": [
       "2397"
      ]
     },
     "execution_count": 37,
     "metadata": {},
     "output_type": "execute_result"
    }
   ],
   "source": [
    "err_data_new = err_all[:,2]\n",
    "len(err_data_new[err_data_new>5].flatten())"
   ]
  },
  {
   "cell_type": "code",
   "execution_count": 38,
   "metadata": {},
   "outputs": [
    {
     "data": {
      "text/plain": [
       "603"
      ]
     },
     "execution_count": 38,
     "metadata": {},
     "output_type": "execute_result"
    }
   ],
   "source": [
    "# <5% error\n",
    "nSample - len(err_data_new[err_data_new>5].flatten())"
   ]
  },
  {
   "cell_type": "code",
   "execution_count": 39,
   "metadata": {},
   "outputs": [
    {
     "name": "stdout",
     "output_type": "stream",
     "text": [
      "error < 5%:  20.099999999999994 %\n"
     ]
    }
   ],
   "source": [
    "print(\"error < 5%: \", (1-len(err_data_new[err_data_new>5].flatten())/nSample)*100, \"%\")"
   ]
  },
  {
   "cell_type": "code",
   "execution_count": 40,
   "metadata": {},
   "outputs": [
    {
     "data": {
      "text/plain": [
       "2793"
      ]
     },
     "execution_count": 40,
     "metadata": {},
     "output_type": "execute_result"
    }
   ],
   "source": [
    "# <10% error\n",
    "nSample - len(err_data_new[err_data_new>10].flatten())"
   ]
  },
  {
   "cell_type": "code",
   "execution_count": 41,
   "metadata": {},
   "outputs": [
    {
     "name": "stdout",
     "output_type": "stream",
     "text": [
      "error < 10%:  93.10000000000001 %\n"
     ]
    }
   ],
   "source": [
    "print(\"error < 10%: \", (1-len(err_data_new[err_data_new>10].flatten())/nSample)*100, \"%\")"
   ]
  },
  {
   "cell_type": "code",
   "execution_count": 42,
   "metadata": {},
   "outputs": [
    {
     "data": {
      "text/plain": [
       "[<matplotlib.lines.Line2D at 0x7fee807dc490>]"
      ]
     },
     "execution_count": 42,
     "metadata": {},
     "output_type": "execute_result"
    },
    {
     "data": {
      "image/png": "[encoded data removed]",
      "text/plain": [
       "<Figure size 640x480 with 1 Axes>"
      ]
     },
     "metadata": {},
     "output_type": "display_data"
    }
   ],
   "source": [
    "import matplotlib.pyplot as plt\n",
    "import numpy as np\n",
    "\n",
    "%matplotlib inline\n",
    "plt.figure()\n",
    "plt.plot(err_data_new, 'bo')"
   ]
  }
 ],
 "metadata": {
  "kernelspec": {
   "display_name": "torch",
   "language": "python",
   "name": "python3"
  },
  "language_info": {
   "codemirror_mode": {
    "name": "ipython",
    "version": 3
   },
   "file_extension": ".py",
   "mimetype": "text/x-python",
   "name": "python",
   "nbconvert_exporter": "python",
   "pygments_lexer": "ipython3",
   "version": "3.8.16"
  },
  "orig_nbformat": 4
 },
 "nbformat": 4,
 "nbformat_minor": 2
}
