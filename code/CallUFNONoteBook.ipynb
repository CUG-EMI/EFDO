{
 "cells": [
  {
   "cell_type": "code",
   "execution_count": 1,
   "metadata": {},
   "outputs": [
    {
     "name": "stdout",
     "output_type": "stream",
     "text": [
      "../data/TrainDataSet.mat\n",
      "model_path /home/em/weiyangliao/NeuralOperatorCode_20241101/code/../temp_model/UFNO3d_config_2_epoch_500.pkl\n"
     ]
    }
   ],
   "source": [
    "import sys\n",
    "import os\n",
    "import numpy as np\n",
    "import torch\n",
    "from torchinfo import summary\n",
    "import yaml\n",
    "import sys\n",
    "from timeit import default_timer\n",
    "from utilities import *\n",
    "from UFNO3d import UFNO3d\n",
    "\n",
    "with open('config_UFNO.yml') as f:\n",
    "    config = yaml.full_load(f)\n",
    "cuda_id = \"cuda:\"+\"0\"\n",
    "device = torch.device(cuda_id if torch.cuda.is_available() else \"cpu\")\n",
    "item = 'UFNO3d_config'\n",
    "config = config[item]\n",
    "TRAIN_PATH = config['TRAIN_PATH']\n",
    "VAL_PATH   = config['VAL_PATH']\n",
    "TEST_PATH  = config['TEST_PATH']\n",
    "save_mode  = config['save_mode']\n",
    "save_step  = config['save_step']\n",
    "n_out      = config['n_out'] # rhoxy, rhoyx\n",
    "model_path = \"../model/\"+config['name']+ \"_\"+str(n_out) # save path and name of model\n",
    "model_path_temp = \"../temp_model/\"+config['name']+\"_\"+ str(n_out)\n",
    "log_path = \"../log/\"+config['name']+\"_\"+str(n_out)+'.log'\n",
    "ntrain = config['ntrain']\n",
    "nval = config['nval']\n",
    "ntest  = config['ntest']\n",
    "batch_size = config['batch_size']\n",
    "learning_rate = config['learning_rate']\n",
    "epochs = config['epochs']\n",
    "step_size = config['step_size']\n",
    "gamma = config['gamma']\n",
    "modes1 = config['modes1']\n",
    "modes2 = config['modes2']\n",
    "width = config['width']\n",
    "s_train = config['s_train']\n",
    "r_train = config['r_train']\n",
    "s_val = config['s_val']\n",
    "r_val = config['r_val']\n",
    "s_test = config['s_test']\n",
    "r_test = config['r_test']\n",
    "layer_sizes = [s_train[0]*s_train[1]] + config['layer_sizes']\n",
    "act_fno   = config['act_fno']\n",
    "init_func = config['init_func']    \n",
    "patience = config['patience'] # if there is {patience} epoch that val_error is larger, early stop,\n",
    "thre_epoch = config['thre_epoch']# condiser early stop after {thre_epoch} epochs\n",
    "print_model_flag = config['print_model_flag'] # print model\n",
    "\n",
    "key_map0 = ['rhoxy','rhoyx'] \n",
    "key_map = key_map0[:n_out] \n",
    "print(TRAIN_PATH)\n",
    "\n",
    "# get training data \n",
    "reader = MatReader(TRAIN_PATH) \n",
    "x_train = reader.read_field('sig') \n",
    "x_train = x_train[:ntrain,::r_train[0],::r_train[1]][:,:s_train[0],:s_train[1]] \n",
    "y_train = torch.stack([reader.read_field(key_map[i])\\\n",
    "[:ntrain,::r_train[2],::r_train[3]][:,:s_train[2],:s_train[3]] for i in range(len(key_map))]).permute(1,2,3,0)\n",
    "freq_base    = reader.read_field('freq')[0] \n",
    "obs_base     = reader.read_field('obs')[0] \n",
    "freq    = torch.log10(freq_base[::r_train[2]][:s_train[2]]) \n",
    "obs     = obs_base[::r_train[3]][:s_train[3]]/torch.max(obs_base) \n",
    "nSample = x_train.shape[0] \n",
    "nLoc = obs.shape[0]\n",
    "nFreq = freq.shape[0]\n",
    "freq = freq.view(nFreq, -1)\n",
    "del reader\n",
    "\n",
    "# dataset normalization  \n",
    "x_normalizer = GaussianNormalizer(x_train)   \n",
    "y_normalizer = GaussianNormalizer_out(y_train)  \n",
    "\n",
    "# load network model \n",
    "model = UFNO3d(modes1, modes1, modes2, width, n_out, layer_sizes, init_func, act_fno).to(device)\n",
    "model_path = sys.path[0] + \"/../temp_model/UFNO3d_config_2_epoch_500.pkl\"\n",
    "print(\"model_path\", model_path)\n",
    "model.load_state_dict(torch.load(model_path))\n",
    "\n",
    "# The input data defines in the predict function is un-normalized (the original input data)\n",
    "# and the output data defines in the predict function is also un-normalized\n",
    "def predict(x, freq=freq):\n",
    "\n",
    "    x = x.unsqueeze(0).unsqueeze(3)\n",
    "    x = x_normalizer.encode(x)\n",
    "    freq = freq.to(device)\n",
    "    x = x.to(device)\n",
    "    with torch.no_grad():\n",
    "        out = model(x,  freq)\n",
    "        out = y_normalizer.decode(out)\n",
    "    out = out.squeeze()\n",
    "\n",
    "    return out.cpu().numpy()"
   ]
  },
  {
   "cell_type": "code",
   "execution_count": 2,
   "metadata": {},
   "outputs": [
    {
     "name": "stdout",
     "output_type": "stream",
     "text": [
      "tensor([[ 3.0000],\n",
      "        [ 2.2258],\n",
      "        [ 1.4516],\n",
      "        [ 0.6774],\n",
      "        [-0.0968],\n",
      "        [-0.8710],\n",
      "        [-1.6452],\n",
      "        [-2.4194]])\n"
     ]
    }
   ],
   "source": [
    "print(freq)"
   ]
  },
  {
   "cell_type": "code",
   "execution_count": 3,
   "metadata": {},
   "outputs": [
    {
     "data": {
      "text/plain": [
       "'2.0.0+cu118'"
      ]
     },
     "execution_count": 3,
     "metadata": {},
     "output_type": "execute_result"
    }
   ],
   "source": [
    "torch.__version__"
   ]
  },
  {
   "cell_type": "code",
   "execution_count": 4,
   "metadata": {},
   "outputs": [
    {
     "data": {
      "text/plain": [
       "True"
      ]
     },
     "execution_count": 4,
     "metadata": {},
     "output_type": "execute_result"
    }
   ],
   "source": [
    "torch.cuda.is_available()"
   ]
  },
  {
   "attachments": {},
   "cell_type": "markdown",
   "metadata": {},
   "source": [
    "# Error analysis of the whole dataset"
   ]
  },
  {
   "attachments": {},
   "cell_type": "markdown",
   "metadata": {},
   "source": [
    "- The whole error analysis (including all sites and receivers) of the training dataset"
   ]
  },
  {
   "cell_type": "code",
   "execution_count": 5,
   "metadata": {},
   "outputs": [],
   "source": [
    "from numpy import linalg as LA\n",
    "reader_train1 = MatReader(TRAIN_PATH)\n",
    "x_train1 = reader_train1.read_field('sig')\n",
    "y_train_rhoxy = reader_train1.read_field('rhoxy').numpy()\n",
    "y_train_rhoyx = reader_train1.read_field('rhoyx').numpy()\n",
    "nSample = x_train1.shape[0]\n",
    "\n",
    "err_all = np.zeros((nSample, 3))\n",
    "for i in range(nSample):\n",
    "\n",
    "    xTrainNew = x_train1[i,:,:]\n",
    "    result = predict(xTrainNew)\n",
    "    rhoxy_predict = pow(10, result[:,:,0])\n",
    "    rhoyx_predict = pow(10, result[:,:,1])\n",
    "\n",
    "    data1 = y_train_rhoxy[i,::4,:]\n",
    "    data2 = y_train_rhoyx[i,::4,:]\n",
    "    data1 = pow(10, data1)\n",
    "    data2 = pow(10, data2)\n",
    "\n",
    "    rhoxy_predict_all = rhoxy_predict.flatten()\n",
    "    rhoyx_predict_all = rhoyx_predict.flatten()\n",
    "\n",
    "    y_train_rhoxy_all = data1.flatten()\n",
    "    y_train_rhoyx_all = data2.flatten()\n",
    "    \n",
    "    diff1 = (rhoxy_predict_all - y_train_rhoxy_all)/y_train_rhoxy_all*100\n",
    "    err1 = LA.norm(diff1, 2) / len(y_train_rhoxy_all) ** 0.5\n",
    "\n",
    "    diff2 = (rhoyx_predict_all - y_train_rhoyx_all)/y_train_rhoyx_all*100\n",
    "    err2 = LA.norm(diff2, 2) / len(y_train_rhoxy_all) ** 0.5\n",
    "\n",
    "    diff = np.power(diff1, 2) + np.power(diff2, 2)\n",
    "    err = np.sqrt(np.sum(diff)) / (2*len(diff)) ** 0.5\n",
    "    \n",
    "    err_all[i, 0] = err1\n",
    "    err_all[i, 1] = err2\n",
    "    err_all[i, 2] = err"
   ]
  },
  {
   "cell_type": "code",
   "execution_count": 6,
   "metadata": {},
   "outputs": [
    {
     "data": {
      "text/plain": [
       "433"
      ]
     },
     "execution_count": 6,
     "metadata": {},
     "output_type": "execute_result"
    }
   ],
   "source": [
    "err_data_new = err_all[:,2]\n",
    "len(err_data_new[err_data_new>5].flatten())"
   ]
  },
  {
   "cell_type": "code",
   "execution_count": 7,
   "metadata": {},
   "outputs": [
    {
     "data": {
      "text/plain": [
       "29567"
      ]
     },
     "execution_count": 7,
     "metadata": {},
     "output_type": "execute_result"
    }
   ],
   "source": [
    "# <5% error\n",
    "nSample - len(err_data_new[err_data_new>5].flatten())"
   ]
  },
  {
   "cell_type": "code",
   "execution_count": 8,
   "metadata": {},
   "outputs": [
    {
     "name": "stdout",
     "output_type": "stream",
     "text": [
      "error < 5%:  98.55666666666667 %\n"
     ]
    }
   ],
   "source": [
    "print(\"error < 5%: \", (1-len(err_data_new[err_data_new>5].flatten())/nSample)*100, \"%\")"
   ]
  },
  {
   "cell_type": "code",
   "execution_count": 9,
   "metadata": {},
   "outputs": [
    {
     "data": {
      "text/plain": [
       "29988"
      ]
     },
     "execution_count": 9,
     "metadata": {},
     "output_type": "execute_result"
    }
   ],
   "source": [
    "# <10% error\n",
    "nSample - len(err_data_new[err_data_new>10].flatten())"
   ]
  },
  {
   "cell_type": "code",
   "execution_count": 10,
   "metadata": {},
   "outputs": [
    {
     "name": "stdout",
     "output_type": "stream",
     "text": [
      "error < 10%:  99.96000000000001 %\n"
     ]
    }
   ],
   "source": [
    "print(\"error < 10%: \", (1-len(err_data_new[err_data_new>10].flatten())/nSample)*100, \"%\")"
   ]
  },
  {
   "cell_type": "code",
   "execution_count": 12,
   "metadata": {},
   "outputs": [
    {
     "data": {
      "text/plain": [
       "[<matplotlib.lines.Line2D at 0x7f499ff11bb0>]"
      ]
     },
     "execution_count": 12,
     "metadata": {},
     "output_type": "execute_result"
    },
    {
     "data": {
      "image/png": "[encoded data removed]",
      "text/plain": [
       "<Figure size 640x480 with 1 Axes>"
      ]
     },
     "metadata": {},
     "output_type": "display_data"
    }
   ],
   "source": [
    "import matplotlib.pyplot as plt\n",
    "import numpy as np\n",
    "\n",
    "%matplotlib inline\n",
    "plt.figure()\n",
    "plt.plot(err_data_new, 'r*')"
   ]
  },
  {
   "cell_type": "code",
   "execution_count": 12,
   "metadata": {},
   "outputs": [
    {
     "name": "stdout",
     "output_type": "stream",
     "text": [
      "The run time of one single prediction is : 0.008198 seconds\n"
     ]
    }
   ],
   "source": [
    "import time\n",
    "from numpy import linalg as LA\n",
    "reader_train1 = MatReader(TRAIN_PATH)\n",
    "x_train1 = reader_train1.read_field('sig')\n",
    "y_train_rhoxy = reader_train1.read_field('rhoxy').numpy()\n",
    "y_train_rhoyx = reader_train1.read_field('rhoyx').numpy()\n",
    "nSample = 1000\n",
    "\n",
    "start_time = time.time() \n",
    "err_all = np.zeros((nSample, 3))\n",
    "for i in range(nSample):\n",
    "    xTrainNew = x_train1[i,:,:]\n",
    "    result = predict(xTrainNew)\n",
    "end_time = time.time()    \n",
    "run_time = end_time - start_time   \n",
    "print(\"The run time of one single prediction is : %.06f seconds\" %(run_time/nSample))"
   ]
  },
  {
   "cell_type": "markdown",
   "metadata": {},
   "source": [
    "- $R^2$ and $RMSE$ statistics of the training dataset"
   ]
  },
  {
   "cell_type": "code",
   "execution_count": 13,
   "metadata": {},
   "outputs": [
    {
     "data": {
      "text/plain": [
       "(tensor([1.0000e+03, 6.4040e+02, 4.1011e+02, 2.6264e+02, 1.6819e+02, 1.0771e+02,\n",
       "         6.8978e+01, 4.4173e+01, 2.8289e+01, 1.8116e+01, 1.1602e+01, 7.4296e+00,\n",
       "         4.7579e+00, 3.0470e+00, 1.9513e+00, 1.2496e+00, 8.0025e-01, 5.1248e-01,\n",
       "         3.2819e-01, 2.1017e-01, 1.3460e-01, 8.6195e-02, 5.5200e-02, 3.5350e-02,\n",
       "         2.2638e-02, 1.4497e-02, 9.2841e-03, 5.9456e-03, 3.8075e-03, 2.4384e-03,\n",
       "         1.5615e-03, 1.0000e-03]),\n",
       " torch.Size([32]))"
      ]
     },
     "execution_count": 13,
     "metadata": {},
     "output_type": "execute_result"
    }
   ],
   "source": [
    "freq_base, freq_base.shape"
   ]
  },
  {
   "cell_type": "code",
   "execution_count": 14,
   "metadata": {},
   "outputs": [
    {
     "name": "stdout",
     "output_type": "stream",
     "text": [
      "tensor([ 3.0000,  2.2258,  1.4516,  0.6774, -0.0968, -0.8710, -1.6452, -2.4194])\n",
      "tensor([ 2.8065,  2.0323,  1.2581,  0.4839, -0.2903, -1.0645, -1.8387, -2.6129])\n",
      "tensor([ 2.6129,  1.8387,  1.0645,  0.2903, -0.4839, -1.2581, -2.0323, -2.8065])\n",
      "tensor([ 2.4194,  1.6452,  0.8710,  0.0968, -0.6774, -1.4516, -2.2258, -3.0000])\n"
     ]
    }
   ],
   "source": [
    "freq1 = torch.log10(freq_base[0:-1:4])\n",
    "print(freq1)\n",
    "freq2 = torch.log10(freq_base[1:-1:4])\n",
    "print(freq2)\n",
    "freq3 = torch.log10(freq_base[2:-1:4])\n",
    "print(freq3)\n",
    "freq4 = torch.log10(freq_base[3:freq_base.shape[0]+1:4])\n",
    "print(freq4)"
   ]
  },
  {
   "cell_type": "code",
   "execution_count": 15,
   "metadata": {},
   "outputs": [],
   "source": [
    "def predict1(x, freq=freq1):\n",
    "\n",
    "    x = x.unsqueeze(0).unsqueeze(3)\n",
    "    x = x_normalizer.encode(x)\n",
    "    x = x.to(device)\n",
    "    with torch.no_grad():\n",
    "        out = model(x,  freq)\n",
    "        out = y_normalizer.decode(out)\n",
    "    out = out.squeeze()\n",
    "\n",
    "    return out.cpu().numpy()\n",
    "\n",
    "def predict2(x, freq=freq2):\n",
    "\n",
    "    x = x.unsqueeze(0).unsqueeze(3)\n",
    "    x = x_normalizer.encode(x)\n",
    "    x = x.to(device)\n",
    "    with torch.no_grad():\n",
    "        out = model(x,  freq)\n",
    "        out = y_normalizer.decode(out)\n",
    "    out = out.squeeze()\n",
    "\n",
    "    return out.cpu().numpy()\n",
    "\n",
    "def predict3(x, freq=freq3):  \n",
    "    \n",
    "        x = x.unsqueeze(0).unsqueeze(3)\n",
    "        x = x_normalizer.encode(x)\n",
    "        x = x.to(device)\n",
    "        with torch.no_grad():\n",
    "            out = model(x,  freq)\n",
    "            out = y_normalizer.decode(out)\n",
    "        out = out.squeeze()\n",
    "    \n",
    "        return out.cpu().numpy()\n",
    "\n",
    "def predict4(x, freq=freq4):\n",
    "         \n",
    "        x = x.unsqueeze(0).unsqueeze(3)\n",
    "        x = x_normalizer.encode(x)\n",
    "        x = x.to(device)\n",
    "        with torch.no_grad():\n",
    "            out = model(x,  freq)\n",
    "            out = y_normalizer.decode(out)\n",
    "        out = out.squeeze()\n",
    "    \n",
    "        return out.cpu().numpy()"
   ]
  },
  {
   "cell_type": "code",
   "execution_count": 16,
   "metadata": {},
   "outputs": [],
   "source": [
    "from numpy import linalg as LA\n",
    "reader_train1 = MatReader(TRAIN_PATH)\n",
    "x_train1 = reader_train1.read_field('sig')\n",
    "y_train_rhoxy = reader_train1.read_field('rhoxy').numpy()\n",
    "y_train_rhoyx = reader_train1.read_field('rhoyx').numpy()\n",
    "nSample = x_train1.shape[0]\n",
    "\n",
    "(nTol, nFreq, nSite) = y_train_rhoxy.shape\n",
    "nnFreq = np.int64(nFreq/4)\n",
    "\n",
    "err_all = np.zeros((nSample, 3))\n",
    "predict_data1 = np.zeros((nSample, nnFreq, nSite, 2))\n",
    "real_data1 = np.zeros((nSample, nnFreq, nSite, 2))\n",
    "real_data1[:,:,:,0] = pow(10, y_train_rhoxy[:nSample,::4,:])\n",
    "real_data1[:,:,:,1] = pow(10, y_train_rhoyx[:nSample,::4,:])\n",
    "\n",
    "predict_data2 = np.zeros((nSample, nnFreq, nSite, 2))\n",
    "real_data2 = np.zeros((nSample, nnFreq, nSite, 2))\n",
    "real_data2[:,:,:,0] = pow(10, y_train_rhoxy[:nSample,1:-1:4,:])\n",
    "real_data2[:,:,:,1] = pow(10, y_train_rhoyx[:nSample,1:-1:4,:])\n",
    "\n",
    "predict_data3 = np.zeros((nSample, nnFreq, nSite, 2))\n",
    "real_data3 = np.zeros((nSample, nnFreq, nSite, 2))\n",
    "real_data3[:,:,:,0] = pow(10, y_train_rhoxy[:nSample,2:-1:4,:])\n",
    "real_data3[:,:,:,1] = pow(10, y_train_rhoyx[:nSample,2:-1:4,:])\n",
    "\n",
    "predict_data4 = np.zeros((nSample, nnFreq, nSite, 2))\n",
    "real_data4 = np.zeros((nSample, nnFreq, nSite, 2))\n",
    "real_data4[:,:,:,0] = pow(10, y_train_rhoxy[:nSample,3:nFreq+1:4,:])\n",
    "real_data4[:,:,:,1] = pow(10, y_train_rhoyx[:nSample,3:nFreq+1:4,:])\n",
    "\n",
    "for i in range(nSample):\n",
    "\n",
    "    xTrainNew = x_train1[i,:,:]\n",
    "    \n",
    "    result = predict1(xTrainNew)\n",
    "    rhoxy_predict = pow(10, result[:,:,0])\n",
    "    rhoyx_predict = pow(10, result[:,:,1])\n",
    "    predict_data1[i,:,:,0] = rhoxy_predict\n",
    "    predict_data1[i,:,:,1] = rhoyx_predict\n",
    "\n",
    "    result = predict2(xTrainNew)\n",
    "    rhoxy_predict = pow(10, result[:,:,0])\n",
    "    rhoyx_predict = pow(10, result[:,:,1])\n",
    "    predict_data2[i,:,:,0] = rhoxy_predict\n",
    "    predict_data2[i,:,:,1] = rhoyx_predict\n",
    "\n",
    "    result = predict3(xTrainNew)\n",
    "    rhoxy_predict = pow(10, result[:,:,0])\n",
    "    rhoyx_predict = pow(10, result[:,:,1])\n",
    "    predict_data3[i,:,:,0] = rhoxy_predict\n",
    "    predict_data3[i,:,:,1] = rhoyx_predict\n",
    "\n",
    "    result = predict4(xTrainNew)\n",
    "    rhoxy_predict = pow(10, result[:,:,0])\n",
    "    rhoyx_predict = pow(10, result[:,:,1])\n",
    "    predict_data4[i,:,:,0] = rhoxy_predict\n",
    "    predict_data4[i,:,:,1] = rhoyx_predict"
   ]
  },
  {
   "cell_type": "code",
   "execution_count": 17,
   "metadata": {},
   "outputs": [],
   "source": [
    "real_data_reshape1 = real_data1.reshape(nSample, nnFreq, -1)\n",
    "predict_data_reshape1 = predict_data1.reshape(nSample, nnFreq, -1)\n",
    "real_data_reshape2 = real_data2.reshape(nSample, nnFreq, -1)\n",
    "predict_data_reshape2 = predict_data2.reshape(nSample, nnFreq, -1)\n",
    "real_data_reshape3 = real_data3.reshape(nSample, nnFreq, -1)\n",
    "predict_data_reshape3 = predict_data3.reshape(nSample, nnFreq, -1)\n",
    "real_data_reshape4 = real_data4.reshape(nSample, nnFreq, -1)\n",
    "predict_data_reshape4 = predict_data4.reshape(nSample, nnFreq, -1)"
   ]
  },
  {
   "cell_type": "code",
   "execution_count": 18,
   "metadata": {},
   "outputs": [
    {
     "name": "stdout",
     "output_type": "stream",
     "text": [
      "\n",
      "r2=================\n",
      "[0.99994541 0.99994272 0.99992865 0.99988687 0.99982989 0.99981056\n",
      " 0.99982999 0.99983441]\n",
      "[0.99797932 0.99658966 0.9919805  0.9854336  0.98193615 0.97944365\n",
      " 0.98144152 0.98914425]\n",
      "[0.99222267 0.98538835 0.96478719 0.94035878 0.93236656 0.92316343\n",
      " 0.93254873 0.95975434]\n",
      "[0.9830598  0.96467956 0.91425631 0.86664101 0.86178766 0.84020858\n",
      " 0.8619738  0.91627544]\n",
      "\n",
      "rmse=================\n",
      "[0.00677153 0.00656411 0.00666231 0.00756554 0.00907289 0.01055131\n",
      " 0.01159162 0.01318919]\n",
      "[0.04079086 0.04962685 0.06870899 0.08438956 0.0949103  0.11380256\n",
      " 0.1257954  0.11006888]\n",
      "[0.07903854 0.1004019  0.1400763  0.16904327 0.18777654 0.22827046\n",
      " 0.24878879 0.21786124]\n",
      "[0.11490661 0.15224509 0.21301075 0.25231001 0.27602894 0.34196149\n",
      " 0.36853331 0.32215703]\n",
      "\n",
      "mae=================\n",
      "[0.00483818 0.00470769 0.00480591 0.00535104 0.00625467 0.00704719\n",
      " 0.00766513 0.00875607]\n",
      "[0.02976242 0.03916136 0.05740994 0.0713063  0.07759912 0.0883633\n",
      " 0.09738008 0.08590785]\n",
      "[0.05806338 0.08030079 0.11773684 0.14288924 0.15310155 0.17680972\n",
      " 0.19287145 0.17015939]\n",
      "[0.08559117 0.12323331 0.17978947 0.21320748 0.22410986 0.26454218\n",
      " 0.2867155  0.2523571 ]\n"
     ]
    }
   ],
   "source": [
    "from sklearn.metrics import r2_score, mean_squared_error, mean_absolute_error\n",
    " \n",
    "r2_1 = np.zeros(nnFreq)\n",
    "r2_2 = np.zeros(nnFreq)\n",
    "r2_3 = np.zeros(nnFreq)\n",
    "r2_4 = np.zeros(nnFreq)\n",
    "\n",
    "rmse_1 = np.zeros(nnFreq)\n",
    "rmse_2 = np.zeros(nnFreq)\n",
    "rmse_3 = np.zeros(nnFreq)\n",
    "rmse_4 = np.zeros(nnFreq)\n",
    "\n",
    "mae_1 = np.zeros(nnFreq)\n",
    "mae_2 = np.zeros(nnFreq)\n",
    "mae_3 = np.zeros(nnFreq)\n",
    "mae_4 = np.zeros(nnFreq)\n",
    "\n",
    "r1 = np.log10(real_data_reshape1)\n",
    "p1 = np.log10(predict_data_reshape1)\n",
    "r2 = np.log10(real_data_reshape2)\n",
    "p2 = np.log10(predict_data_reshape2)\n",
    "r3 = np.log10(real_data_reshape3)\n",
    "p3 = np.log10(predict_data_reshape3)\n",
    "r4 = np.log10(real_data_reshape4)\n",
    "p4 = np.log10(predict_data_reshape4)\n",
    "\n",
    "for i in range(nnFreq):\n",
    "    r2_1[i] = r2_score(r1[:,i,:].flatten(), p1[:,i,:].flatten())\n",
    "    r2_2[i] = r2_score(r2[:,i,:].flatten(), p2[:,i,:].flatten())\n",
    "    r2_3[i] = r2_score(r3[:,i,:].flatten(), p3[:,i,:].flatten())\n",
    "    r2_4[i] = r2_score(r4[:,i,:].flatten(), p4[:,i,:].flatten())\n",
    "\n",
    "    rmse_1[i] = mean_squared_error(r1[:,i,:].flatten(), p1[:,i,:].flatten(), squared=False)\n",
    "    rmse_2[i] = mean_squared_error(r2[:,i,:].flatten(), p2[:,i,:].flatten(), squared=False)\n",
    "    rmse_3[i] = mean_squared_error(r3[:,i,:].flatten(), p3[:,i,:].flatten(), squared=False)\n",
    "    rmse_4[i] = mean_squared_error(r4[:,i,:].flatten(), p4[:,i,:].flatten(), squared=False)\n",
    "\n",
    "    mae_1[i] = mean_absolute_error(r1[:,i,:].flatten(), p1[:,i,:].flatten())\n",
    "    mae_2[i] = mean_absolute_error(r2[:,i,:].flatten(), p2[:,i,:].flatten())\n",
    "    mae_3[i] = mean_absolute_error(r3[:,i,:].flatten(), p3[:,i,:].flatten())\n",
    "    mae_4[i] = mean_absolute_error(r4[:,i,:].flatten(), p4[:,i,:].flatten())\n",
    "\n",
    "print(\"\\nr2=================\")\n",
    "print(r2_1)\n",
    "print(r2_2)\n",
    "print(r2_3)\n",
    "print(r2_4)\n",
    "\n",
    "print(\"\\nrmse=================\")\n",
    "print(rmse_1)\n",
    "print(rmse_2)\n",
    "print(rmse_3)\n",
    "print(rmse_4)\n",
    "\n",
    "print(\"\\nmae=================\")\n",
    "print(mae_1)\n",
    "print(mae_2)\n",
    "print(mae_3)\n",
    "print(mae_4)"
   ]
  },
  {
   "cell_type": "code",
   "execution_count": 19,
   "metadata": {},
   "outputs": [
    {
     "name": "stdout",
     "output_type": "stream",
     "text": [
      "[0.99994541 0.99797932 0.99222267 0.9830598  0.99994272 0.99658966\n",
      " 0.98538835 0.96467956 0.99992865 0.9919805  0.96478719 0.91425631\n",
      " 0.99988687 0.9854336  0.94035878 0.86664101 0.99982989 0.98193615\n",
      " 0.93236656 0.86178766 0.99981056 0.97944365 0.92316343 0.84020858\n",
      " 0.99982999 0.98144152 0.93254873 0.8619738  0.99983441 0.98914425\n",
      " 0.95975434 0.91627544]\n",
      "[0.00677153 0.04079086 0.07903854 0.11490661 0.00656411 0.04962685\n",
      " 0.1004019  0.15224509 0.00666231 0.06870899 0.1400763  0.21301075\n",
      " 0.00756554 0.08438956 0.16904327 0.25231001 0.00907289 0.0949103\n",
      " 0.18777654 0.27602894 0.01055131 0.11380256 0.22827046 0.34196149\n",
      " 0.01159162 0.1257954  0.24878879 0.36853331 0.01318919 0.11006888\n",
      " 0.21786124 0.32215703]\n",
      "[0.00483818 0.02976242 0.05806338 0.08559117 0.00470769 0.03916136\n",
      " 0.08030079 0.12323331 0.00480591 0.05740994 0.11773684 0.17978947\n",
      " 0.00535104 0.0713063  0.14288924 0.21320748 0.00625467 0.07759912\n",
      " 0.15310155 0.22410986 0.00704719 0.0883633  0.17680972 0.26454218\n",
      " 0.00766513 0.09738008 0.19287145 0.2867155  0.00875607 0.08590785\n",
      " 0.17015939 0.2523571 ]\n"
     ]
    },
    {
     "data": {
      "text/plain": [
       "<matplotlib.legend.Legend at 0x7f47c062f5e0>"
      ]
     },
     "execution_count": 19,
     "metadata": {},
     "output_type": "execute_result"
    },
    {
     "data": {
      "image/png": "[encoded data removed]",
      "text/plain": [
       "<Figure size 640x480 with 1 Axes>"
      ]
     },
     "metadata": {},
     "output_type": "display_data"
    }
   ],
   "source": [
    "r2 = np.zeros(nFreq)\n",
    "for i in range(nnFreq):\n",
    "    r2[4*i] = r2_1[i]\n",
    "    r2[4*i+1] = r2_2[i]\n",
    "    r2[4*i+2] = r2_3[i]\n",
    "    r2[4*i+3] = r2_4[i]\n",
    "\n",
    "rmse= np.zeros(nFreq)\n",
    "for i in range(nnFreq):\n",
    "    rmse[4*i] = rmse_1[i]\n",
    "    rmse[4*i+1] = rmse_2[i]\n",
    "    rmse[4*i+2] = rmse_3[i]\n",
    "    rmse[4*i+3] = rmse_4[i]\n",
    "\n",
    "mae = np.zeros(nFreq)\n",
    "for i in range(nnFreq):\n",
    "    mae[4*i] = mae_1[i]\n",
    "    mae[4*i+1] = mae_2[i]\n",
    "    mae[4*i+2] = mae_3[i]\n",
    "    mae[4*i+3] = mae_4[i]\n",
    "\n",
    "print(r2)\n",
    "print(rmse)\n",
    "print(mae)\n",
    "\n",
    "import matplotlib.pyplot as plt\n",
    "import numpy as np\n",
    "\n",
    "%matplotlib inline\n",
    "plt.figure()\n",
    "plt.plot(r2)\n",
    "plt.plot(rmse)\n",
    "plt.plot(mae)\n",
    "plt.legend(['r2', 'rmse', 'mae'], )"
   ]
  },
  {
   "cell_type": "markdown",
   "metadata": {},
   "source": [
    "- $R^2$, $RMSE$ and $MAE$ statistics of the test dataset"
   ]
  },
  {
   "cell_type": "code",
   "execution_count": 20,
   "metadata": {},
   "outputs": [],
   "source": [
    "from numpy import linalg as LA\n",
    "read_test1 = MatReader(TEST_PATH) # test dataset\n",
    "x_test1 = read_test1.read_field('sig')\n",
    "y_test_rhoxy = read_test1.read_field('rhoxy').numpy()\n",
    "y_test_rhoyx = read_test1.read_field('rhoyx').numpy()\n",
    "nSample = x_test1.shape[0]\n",
    "\n",
    "(nTol, nFreq, nSite) = y_test_rhoxy.shape\n",
    "nnFreq = np.int64(nFreq/4)\n",
    "\n",
    "err_all = np.zeros((nSample, 3))\n",
    "predict_data1 = np.zeros((nSample, nnFreq, nSite, 2))\n",
    "real_data1 = np.zeros((nSample, nnFreq, nSite, 2))\n",
    "real_data1[:,:,:,0] = pow(10, y_test_rhoxy[:nSample,::4,:])\n",
    "real_data1[:,:,:,1] = pow(10, y_test_rhoyx[:nSample,::4,:])\n",
    "\n",
    "predict_data2 = np.zeros((nSample, nnFreq, nSite, 2))\n",
    "real_data2 = np.zeros((nSample, nnFreq, nSite, 2))\n",
    "real_data2[:,:,:,0] = pow(10, y_test_rhoxy[:nSample,1:-1:4,:])\n",
    "real_data2[:,:,:,1] = pow(10, y_test_rhoyx[:nSample,1:-1:4,:])\n",
    "\n",
    "predict_data3 = np.zeros((nSample, nnFreq, nSite, 2))\n",
    "real_data3 = np.zeros((nSample, nnFreq, nSite, 2))\n",
    "real_data3[:,:,:,0] = pow(10, y_test_rhoxy[:nSample,2:-1:4,:])\n",
    "real_data3[:,:,:,1] = pow(10, y_test_rhoyx[:nSample,2:-1:4,:])\n",
    "\n",
    "predict_data4 = np.zeros((nSample, nnFreq, nSite, 2))\n",
    "real_data4 = np.zeros((nSample, nnFreq, nSite, 2))\n",
    "real_data4[:,:,:,0] = pow(10, y_test_rhoxy[:nSample,3:nFreq+1:4,:])\n",
    "real_data4[:,:,:,1] = pow(10, y_test_rhoyx[:nSample,3:nFreq+1:4,:])\n",
    "\n",
    "for i in range(nSample):\n",
    "\n",
    "    xTestNew = x_test1[i,:,:]\n",
    "    \n",
    "    result = predict1(xTestNew)\n",
    "    rhoxy_predict = pow(10, result[:,:,0])\n",
    "    rhoyx_predict = pow(10, result[:,:,1])\n",
    "    predict_data1[i,:,:,0] = rhoxy_predict\n",
    "    predict_data1[i,:,:,1] = rhoyx_predict\n",
    "\n",
    "    result = predict2(xTestNew)\n",
    "    rhoxy_predict = pow(10, result[:,:,0])\n",
    "    rhoyx_predict = pow(10, result[:,:,1])\n",
    "    predict_data2[i,:,:,0] = rhoxy_predict\n",
    "    predict_data2[i,:,:,1] = rhoyx_predict\n",
    "\n",
    "    result = predict3(xTestNew)\n",
    "    rhoxy_predict = pow(10, result[:,:,0])\n",
    "    rhoyx_predict = pow(10, result[:,:,1])\n",
    "    predict_data3[i,:,:,0] = rhoxy_predict\n",
    "    predict_data3[i,:,:,1] = rhoyx_predict\n",
    "\n",
    "    result = predict4(xTestNew)\n",
    "    rhoxy_predict = pow(10, result[:,:,0])\n",
    "    rhoyx_predict = pow(10, result[:,:,1])\n",
    "    predict_data4[i,:,:,0] = rhoxy_predict\n",
    "    predict_data4[i,:,:,1] = rhoyx_predict"
   ]
  },
  {
   "cell_type": "code",
   "execution_count": 21,
   "metadata": {},
   "outputs": [],
   "source": [
    "real_data_reshape1 = real_data1.reshape(nSample, nnFreq, -1)\n",
    "predict_data_reshape1 = predict_data1.reshape(nSample, nnFreq, -1)\n",
    "real_data_reshape2 = real_data2.reshape(nSample, nnFreq, -1)\n",
    "predict_data_reshape2 = predict_data2.reshape(nSample, nnFreq, -1)\n",
    "real_data_reshape3 = real_data3.reshape(nSample, nnFreq, -1)\n",
    "predict_data_reshape3 = predict_data3.reshape(nSample, nnFreq, -1)\n",
    "real_data_reshape4 = real_data4.reshape(nSample, nnFreq, -1)\n",
    "predict_data_reshape4 = predict_data4.reshape(nSample, nnFreq, -1)"
   ]
  },
  {
   "cell_type": "code",
   "execution_count": 22,
   "metadata": {},
   "outputs": [
    {
     "name": "stdout",
     "output_type": "stream",
     "text": [
      "\n",
      "r2=================\n",
      "[0.99994234 0.99993769 0.99991313 0.9998451  0.99972679 0.9996382\n",
      " 0.99960554 0.99955656]\n",
      "[0.99798254 0.99648212 0.99163719 0.98520849 0.98200824 0.9789228\n",
      " 0.9809122  0.98878119]\n",
      "[0.99223537 0.98485411 0.96339895 0.93985472 0.93293956 0.9216106\n",
      " 0.93123421 0.95912237]\n",
      "[0.98305266 0.96318806 0.91119597 0.86625018 0.86288659 0.83700143\n",
      " 0.85957946 0.91517746]\n",
      "\n",
      "rmse=================\n",
      "[0.00695034 0.00681579 0.00728868 0.00877432 0.01146419 0.01459778\n",
      " 0.01769811 0.02164134]\n",
      "[0.04067879 0.05012832 0.06951294 0.08436691 0.09457954 0.11539956\n",
      " 0.12790179 0.11218462]\n",
      "[0.07876322 0.10155414 0.14144173 0.16865891 0.18692243 0.23096088\n",
      " 0.25187305 0.22009903]\n",
      "[0.11452851 0.15424582 0.21473377 0.25149066 0.27508904 0.34608264\n",
      " 0.37272602 0.32498057]\n",
      "\n",
      "mae=================\n",
      "[0.00502212 0.00494204 0.00523266 0.0060983  0.00774886 0.00945245\n",
      " 0.01118982 0.01373862]\n",
      "[0.0296713  0.0396774  0.05817869 0.07122298 0.07742418 0.09002592\n",
      " 0.09949616 0.08835067]\n",
      "[0.05785674 0.08140003 0.1191272  0.14247787 0.15266665 0.17956852\n",
      " 0.19594806 0.17307625]\n",
      "[0.08534423 0.12501157 0.18162232 0.21252103 0.22356915 0.26863377\n",
      " 0.29100372 0.25613502]\n"
     ]
    }
   ],
   "source": [
    "from sklearn.metrics import r2_score, mean_squared_error, mean_absolute_error\n",
    " \n",
    "r2_1 = np.zeros(nnFreq)\n",
    "r2_2 = np.zeros(nnFreq)\n",
    "r2_3 = np.zeros(nnFreq)\n",
    "r2_4 = np.zeros(nnFreq)\n",
    "\n",
    "rmse_1 = np.zeros(nnFreq)\n",
    "rmse_2 = np.zeros(nnFreq)\n",
    "rmse_3 = np.zeros(nnFreq)\n",
    "rmse_4 = np.zeros(nnFreq)\n",
    "\n",
    "mae_1 = np.zeros(nnFreq)\n",
    "mae_2 = np.zeros(nnFreq)\n",
    "mae_3 = np.zeros(nnFreq)\n",
    "mae_4 = np.zeros(nnFreq)\n",
    "\n",
    "r1 = np.log10(real_data_reshape1)\n",
    "p1 = np.log10(predict_data_reshape1)\n",
    "r2 = np.log10(real_data_reshape2)\n",
    "p2 = np.log10(predict_data_reshape2)\n",
    "r3 = np.log10(real_data_reshape3)\n",
    "p3 = np.log10(predict_data_reshape3)\n",
    "r4 = np.log10(real_data_reshape4)\n",
    "p4 = np.log10(predict_data_reshape4)\n",
    "\n",
    "for i in range(nnFreq):\n",
    "    r2_1[i] = r2_score(r1[:,i,:].flatten(), p1[:,i,:].flatten())\n",
    "    r2_2[i] = r2_score(r2[:,i,:].flatten(), p2[:,i,:].flatten())\n",
    "    r2_3[i] = r2_score(r3[:,i,:].flatten(), p3[:,i,:].flatten())\n",
    "    r2_4[i] = r2_score(r4[:,i,:].flatten(), p4[:,i,:].flatten())\n",
    "\n",
    "    rmse_1[i] = mean_squared_error(r1[:,i,:].flatten(), p1[:,i,:].flatten(), squared=False)\n",
    "    rmse_2[i] = mean_squared_error(r2[:,i,:].flatten(), p2[:,i,:].flatten(), squared=False)\n",
    "    rmse_3[i] = mean_squared_error(r3[:,i,:].flatten(), p3[:,i,:].flatten(), squared=False)\n",
    "    rmse_4[i] = mean_squared_error(r4[:,i,:].flatten(), p4[:,i,:].flatten(), squared=False)\n",
    "\n",
    "    mae_1[i] = mean_absolute_error(r1[:,i,:].flatten(), p1[:,i,:].flatten())\n",
    "    mae_2[i] = mean_absolute_error(r2[:,i,:].flatten(), p2[:,i,:].flatten())\n",
    "    mae_3[i] = mean_absolute_error(r3[:,i,:].flatten(), p3[:,i,:].flatten())\n",
    "    mae_4[i] = mean_absolute_error(r4[:,i,:].flatten(), p4[:,i,:].flatten())\n",
    "\n",
    "print(\"\\nr2=================\")\n",
    "print(r2_1)\n",
    "print(r2_2)\n",
    "print(r2_3)\n",
    "print(r2_4)\n",
    "\n",
    "print(\"\\nrmse=================\")\n",
    "print(rmse_1)\n",
    "print(rmse_2)\n",
    "print(rmse_3)\n",
    "print(rmse_4)\n",
    "\n",
    "print(\"\\nmae=================\")\n",
    "print(mae_1)\n",
    "print(mae_2)\n",
    "print(mae_3)\n",
    "print(mae_4)"
   ]
  },
  {
   "cell_type": "code",
   "execution_count": 23,
   "metadata": {},
   "outputs": [
    {
     "name": "stdout",
     "output_type": "stream",
     "text": [
      "[0.99994234 0.99798254 0.99223537 0.98305266 0.99993769 0.99648212\n",
      " 0.98485411 0.96318806 0.99991313 0.99163719 0.96339895 0.91119597\n",
      " 0.9998451  0.98520849 0.93985472 0.86625018 0.99972679 0.98200824\n",
      " 0.93293956 0.86288659 0.9996382  0.9789228  0.9216106  0.83700143\n",
      " 0.99960554 0.9809122  0.93123421 0.85957946 0.99955656 0.98878119\n",
      " 0.95912237 0.91517746]\n",
      "[0.00695034 0.04067879 0.07876322 0.11452851 0.00681579 0.05012832\n",
      " 0.10155414 0.15424582 0.00728868 0.06951294 0.14144173 0.21473377\n",
      " 0.00877432 0.08436691 0.16865891 0.25149066 0.01146419 0.09457954\n",
      " 0.18692243 0.27508904 0.01459778 0.11539956 0.23096088 0.34608264\n",
      " 0.01769811 0.12790179 0.25187305 0.37272602 0.02164134 0.11218462\n",
      " 0.22009903 0.32498057]\n",
      "[0.00502212 0.0296713  0.05785674 0.08534423 0.00494204 0.0396774\n",
      " 0.08140003 0.12501157 0.00523266 0.05817869 0.1191272  0.18162232\n",
      " 0.0060983  0.07122298 0.14247787 0.21252103 0.00774886 0.07742418\n",
      " 0.15266665 0.22356915 0.00945245 0.09002592 0.17956852 0.26863377\n",
      " 0.01118982 0.09949616 0.19594806 0.29100372 0.01373862 0.08835067\n",
      " 0.17307625 0.25613502]\n"
     ]
    },
    {
     "data": {
      "text/plain": [
       "<matplotlib.legend.Legend at 0x7f47c0583670>"
      ]
     },
     "execution_count": 23,
     "metadata": {},
     "output_type": "execute_result"
    },
    {
     "data": {
      "image/png": "[encoded data removed]",
      "text/plain": [
       "<Figure size 640x480 with 1 Axes>"
      ]
     },
     "metadata": {},
     "output_type": "display_data"
    }
   ],
   "source": [
    "r2 = np.zeros(nFreq)\n",
    "for i in range(nnFreq):\n",
    "    r2[4*i] = r2_1[i]\n",
    "    r2[4*i+1] = r2_2[i]\n",
    "    r2[4*i+2] = r2_3[i]\n",
    "    r2[4*i+3] = r2_4[i]\n",
    "\n",
    "rmse= np.zeros(nFreq)\n",
    "for i in range(nnFreq):\n",
    "    rmse[4*i] = rmse_1[i]\n",
    "    rmse[4*i+1] = rmse_2[i]\n",
    "    rmse[4*i+2] = rmse_3[i]\n",
    "    rmse[4*i+3] = rmse_4[i]\n",
    "\n",
    "mae = np.zeros(nFreq)\n",
    "for i in range(nnFreq):\n",
    "    mae[4*i] = mae_1[i]\n",
    "    mae[4*i+1] = mae_2[i]\n",
    "    mae[4*i+2] = mae_3[i]\n",
    "    mae[4*i+3] = mae_4[i]\n",
    "\n",
    "print(r2)\n",
    "print(rmse)\n",
    "print(mae)\n",
    "\n",
    "import matplotlib.pyplot as plt\n",
    "import numpy as np\n",
    "\n",
    "%matplotlib inline\n",
    "plt.figure()\n",
    "plt.plot(r2)\n",
    "plt.plot(rmse)\n",
    "plt.plot(mae)\n",
    "plt.legend(['r2', 'rmse', 'mae'], )"
   ]
  },
  {
   "cell_type": "markdown",
   "metadata": {},
   "source": [
    "- The No. 502 sample of the test dataset"
   ]
  },
  {
   "cell_type": "code",
   "execution_count": 24,
   "metadata": {},
   "outputs": [
    {
     "name": "stdout",
     "output_type": "stream",
     "text": [
      "[1.36269255 2.80418426 2.20458386]\n"
     ]
    }
   ],
   "source": [
    "from numpy import linalg as LA\n",
    "reader_test1 = MatReader(TEST_PATH)\n",
    "x_test1 = reader_test1.read_field('sig')\n",
    "y_test_rhoxy = reader_test1.read_field('rhoxy').numpy()\n",
    "y_test_rhoyx = reader_test1.read_field('rhoyx').numpy()\n",
    "\n",
    "err_single = np.zeros((3))\n",
    "\n",
    "# select sample\n",
    "i = 501\n",
    "\n",
    "xtestNew = x_test1[i,:,:]\n",
    "result = predict(xtestNew)\n",
    "rhoxy_predict = pow(10, result[:,:,0])\n",
    "rhoyx_predict = pow(10, result[:,:,1])\n",
    "\n",
    "data1 = y_test_rhoxy[i,::4,:]\n",
    "data2 = y_test_rhoyx[i,::4,:]\n",
    "data1 = pow(10, data1)\n",
    "data2 = pow(10, data2)\n",
    "\n",
    "rhoxy_predict_all = rhoxy_predict.flatten()\n",
    "rhoyx_predict_all = rhoyx_predict.flatten()\n",
    "\n",
    "y_test_rhoxy_all = data1.flatten()\n",
    "y_test_rhoyx_all = data2.flatten()\n",
    "    \n",
    "diff1 = (rhoxy_predict_all - y_test_rhoxy_all)/y_test_rhoxy_all*100\n",
    "# print(type(diff1))\n",
    "err1 = LA.norm(diff1, 2) / len(y_test_rhoxy_all) ** 0.5\n",
    "\n",
    "diff2 = (rhoyx_predict_all - y_test_rhoyx_all)/y_test_rhoyx_all*100\n",
    "err2 = LA.norm(diff2, 2) / len(y_test_rhoxy_all) ** 0.5\n",
    "# print(err1, err2)\n",
    "\n",
    "diff = np.power(diff1, 2) + np.power(diff2, 2)\n",
    "err = np.sqrt(np.sum(diff)) / (2*len(diff)) ** 0.5\n",
    "    \n",
    "err_single[0] = err1\n",
    "err_single[1] = err2\n",
    "err_single[2] = err\n",
    "\n",
    "UFNO3d_rhoxy_predict = rhoxy_predict\n",
    "UFNO3d_rhoyx_predict = rhoyx_predict\n",
    "\n",
    "UFNO3d_rhoxy_real = data1\n",
    "UFNO3d_rhoyx_real = data2\n",
    "\n",
    "print(err_single)"
   ]
  },
  {
   "cell_type": "markdown",
   "metadata": {},
   "source": [
    "- The No. $2501$ sample of the test dataset"
   ]
  },
  {
   "cell_type": "code",
   "execution_count": 25,
   "metadata": {},
   "outputs": [
    {
     "name": "stdout",
     "output_type": "stream",
     "text": [
      "[1.34269122 2.67503964 2.11644235]\n"
     ]
    }
   ],
   "source": [
    "from numpy import linalg as LA\n",
    "reader_test1 = MatReader(TEST_PATH)\n",
    "x_test1 = reader_test1.read_field('sig')\n",
    "y_test_rhoxy = reader_test1.read_field('rhoxy').numpy()\n",
    "y_test_rhoyx = reader_test1.read_field('rhoyx').numpy()\n",
    "\n",
    "err_single = np.zeros((3))\n",
    "\n",
    "# select sample\n",
    "i = 2500\n",
    "\n",
    "xtestNew = x_test1[i,:,:]\n",
    "result = predict(xtestNew)\n",
    "rhoxy_predict = pow(10, result[:,:,0])\n",
    "rhoyx_predict = pow(10, result[:,:,1])\n",
    "\n",
    "data1 = y_test_rhoxy[i,::4,:]\n",
    "data2 = y_test_rhoyx[i,::4,:]\n",
    "data1 = pow(10, data1)\n",
    "data2 = pow(10, data2)\n",
    "\n",
    "rhoxy_predict_all = rhoxy_predict.flatten()\n",
    "rhoyx_predict_all = rhoyx_predict.flatten()\n",
    "\n",
    "y_test_rhoxy_all = data1.flatten()\n",
    "y_test_rhoyx_all = data2.flatten()\n",
    "    \n",
    "diff1 = (rhoxy_predict_all - y_test_rhoxy_all)/y_test_rhoxy_all*100\n",
    "# print(type(diff1))\n",
    "err1 = LA.norm(diff1, 2) / len(y_test_rhoxy_all) ** 0.5\n",
    "\n",
    "diff2 = (rhoyx_predict_all - y_test_rhoyx_all)/y_test_rhoyx_all*100\n",
    "err2 = LA.norm(diff2, 2) / len(y_test_rhoxy_all) ** 0.5\n",
    "# print(err1, err2)\n",
    "\n",
    "diff = np.power(diff1, 2) + np.power(diff2, 2)\n",
    "err = np.sqrt(np.sum(diff)) / (2*len(diff)) ** 0.5\n",
    "    \n",
    "err_single[0] = err1\n",
    "err_single[1] = err2\n",
    "err_single[2] = err\n",
    "\n",
    "UFNO3d_rhoxy_predict = rhoxy_predict\n",
    "UFNO3d_rhoyx_predict = rhoyx_predict\n",
    "\n",
    "UFNO3d_rhoxy_real = data1\n",
    "UFNO3d_rhoyx_real = data2\n",
    "\n",
    "print(err_single)"
   ]
  },
  {
   "cell_type": "code",
   "execution_count": 34,
   "metadata": {},
   "outputs": [],
   "source": [
    "# save data to mat file\n",
    "import scipy.io as sio\n",
    "\n",
    "sio.savemat('UFNO3d_predict.mat', {'UFNO3d_rhoxy_predict':UFNO3d_rhoxy_predict, \n",
    "                                   'UFNO3d_rhoyx_predict':UFNO3d_rhoyx_predict, \n",
    "                                   'UFNO3d_rhoxy_real':UFNO3d_rhoxy_real, \n",
    "                                   'UFNO3d_rhoyx_real':UFNO3d_rhoyx_real})"
   ]
  },
  {
   "cell_type": "markdown",
   "metadata": {},
   "source": [
    "- The No. $2066$ sample of the test dataset"
   ]
  },
  {
   "cell_type": "code",
   "execution_count": 26,
   "metadata": {},
   "outputs": [
    {
     "name": "stdout",
     "output_type": "stream",
     "text": [
      "[ 2.27611255 13.1111281   9.40963306]\n"
     ]
    }
   ],
   "source": [
    "from numpy import linalg as LA\n",
    "reader_test1 = MatReader(TEST_PATH)\n",
    "x_test1 = reader_test1.read_field('sig')\n",
    "y_test_rhoxy = reader_test1.read_field('rhoxy').numpy()\n",
    "y_test_rhoyx = reader_test1.read_field('rhoyx').numpy()\n",
    "\n",
    "err_single = np.zeros((3))\n",
    "\n",
    "# select sample\n",
    "i = 2065\n",
    "\n",
    "xtestNew = x_test1[i,:,:]\n",
    "result = predict(xtestNew)\n",
    "rhoxy_predict = pow(10, result[:,:,0])\n",
    "rhoyx_predict = pow(10, result[:,:,1])\n",
    "\n",
    "data1 = y_test_rhoxy[i,::4,:]\n",
    "data2 = y_test_rhoyx[i,::4,:]\n",
    "data1 = pow(10, data1)\n",
    "data2 = pow(10, data2)\n",
    "\n",
    "rhoxy_predict_all = rhoxy_predict.flatten()\n",
    "rhoyx_predict_all = rhoyx_predict.flatten()\n",
    "\n",
    "y_test_rhoxy_all = data1.flatten()\n",
    "y_test_rhoyx_all = data2.flatten()\n",
    "    \n",
    "diff1 = (rhoxy_predict_all - y_test_rhoxy_all)/y_test_rhoxy_all*100\n",
    "# print(type(diff1))\n",
    "err1 = LA.norm(diff1, 2) / len(y_test_rhoxy_all) ** 0.5\n",
    "\n",
    "diff2 = (rhoyx_predict_all - y_test_rhoyx_all)/y_test_rhoyx_all*100\n",
    "err2 = LA.norm(diff2, 2) / len(y_test_rhoxy_all) ** 0.5\n",
    "# print(err1, err2)\n",
    "\n",
    "diff = np.power(diff1, 2) + np.power(diff2, 2)\n",
    "err = np.sqrt(np.sum(diff)) / (2*len(diff)) ** 0.5\n",
    "    \n",
    "err_single[0] = err1\n",
    "err_single[1] = err2\n",
    "err_single[2] = err\n",
    "\n",
    "UFNO3d_rhoxy_predict = rhoxy_predict\n",
    "UFNO3d_rhoyx_predict = rhoyx_predict\n",
    "\n",
    "UFNO3d_rhoxy_real = data1\n",
    "UFNO3d_rhoyx_real = data2\n",
    "\n",
    "print(err_single)"
   ]
  },
  {
   "cell_type": "code",
   "execution_count": 36,
   "metadata": {},
   "outputs": [],
   "source": [
    "# save data to mat file\n",
    "import scipy.io as sio\n",
    "\n",
    "sio.savemat('UFNO_predict_site.mat', {'UFNO_rhoxy_site_predict':UFNO3d_rhoxy_predict, \n",
    "                                   'UFNO_rhoyx_site_predict':UFNO3d_rhoyx_predict, \n",
    "                                   'UFNO_rhoxy_site_real':UFNO3d_rhoxy_real, \n",
    "                                   'UFNO_rhoyx_site_real':UFNO3d_rhoyx_real})"
   ]
  },
  {
   "cell_type": "markdown",
   "metadata": {},
   "source": [
    "- The whole error analysis (including all sites and receivers) of the validate dataset"
   ]
  },
  {
   "cell_type": "code",
   "execution_count": 27,
   "metadata": {},
   "outputs": [],
   "source": [
    "from numpy import linalg as LA\n",
    "reader_val = MatReader(VAL_PATH)\n",
    "x_val = reader_val.read_field('sig')\n",
    "y_test_rhoxy = reader_val.read_field('rhoxy').numpy()\n",
    "y_test_rhoyx = reader_val.read_field('rhoyx').numpy()\n",
    "nSample = x_val.shape[0]\n",
    "\n",
    "err_all = np.zeros((nSample, 3))\n",
    "for i in range(nSample):\n",
    "\n",
    "    xvalNew = x_val[i,:,:]\n",
    "    result = predict(xvalNew)\n",
    "    rhoxy_predict = pow(10, result[:,:,0])\n",
    "    rhoyx_predict = pow(10, result[:,:,1])\n",
    "\n",
    "    data1 = y_test_rhoxy[i,::4,:]\n",
    "    data2 = y_test_rhoyx[i,::4,:]\n",
    "    data1 = pow(10, data1)\n",
    "    data2 = pow(10, data2)\n",
    "\n",
    "    rhoxy_predict_all = rhoxy_predict.flatten()\n",
    "    rhoyx_predict_all = rhoyx_predict.flatten()\n",
    "\n",
    "    y_test_rhoxy_all = data1.flatten()\n",
    "    y_test_rhoyx_all = data2.flatten()\n",
    "    \n",
    "    diff1 = (rhoxy_predict_all - y_test_rhoxy_all)/y_test_rhoxy_all*100\n",
    "    err1 = LA.norm(diff1, 2) / len(y_test_rhoxy_all) ** 0.5\n",
    "\n",
    "    diff2 = (rhoyx_predict_all - y_test_rhoyx_all)/y_test_rhoyx_all*100\n",
    "    err2 = LA.norm(diff2, 2) / len(y_test_rhoxy_all) ** 0.5\n",
    "\n",
    "    diff = np.power(diff1, 2) + np.power(diff2, 2)\n",
    "    err = np.sqrt(np.sum(diff)) / (2*len(diff)) ** 0.5\n",
    "    \n",
    "    err_all[i, 0] = err1\n",
    "    err_all[i, 1] = err2\n",
    "    err_all[i, 2] = err"
   ]
  },
  {
   "cell_type": "code",
   "execution_count": 28,
   "metadata": {},
   "outputs": [
    {
     "data": {
      "text/plain": [
       "167"
      ]
     },
     "execution_count": 28,
     "metadata": {},
     "output_type": "execute_result"
    }
   ],
   "source": [
    "err_data_new = err_all[:,2]\n",
    "len(err_data_new[err_data_new>5].flatten())"
   ]
  },
  {
   "cell_type": "code",
   "execution_count": 29,
   "metadata": {},
   "outputs": [
    {
     "data": {
      "text/plain": [
       "2833"
      ]
     },
     "execution_count": 29,
     "metadata": {},
     "output_type": "execute_result"
    }
   ],
   "source": [
    "# <5% error\n",
    "nSample - len(err_data_new[err_data_new>5].flatten())"
   ]
  },
  {
   "cell_type": "code",
   "execution_count": 30,
   "metadata": {},
   "outputs": [
    {
     "name": "stdout",
     "output_type": "stream",
     "text": [
      "error < 5%:  94.43333333333334 %\n"
     ]
    }
   ],
   "source": [
    "print(\"error < 5%: \", (1-len(err_data_new[err_data_new>5].flatten())/nSample)*100, \"%\")"
   ]
  },
  {
   "cell_type": "code",
   "execution_count": 31,
   "metadata": {},
   "outputs": [
    {
     "data": {
      "text/plain": [
       "2988"
      ]
     },
     "execution_count": 31,
     "metadata": {},
     "output_type": "execute_result"
    }
   ],
   "source": [
    "# <10% error\n",
    "nSample - len(err_data_new[err_data_new>10].flatten())"
   ]
  },
  {
   "cell_type": "code",
   "execution_count": 32,
   "metadata": {},
   "outputs": [
    {
     "name": "stdout",
     "output_type": "stream",
     "text": [
      "error < 10%:  99.6 %\n"
     ]
    }
   ],
   "source": [
    "print(\"error < 10%: \", (1-len(err_data_new[err_data_new>10].flatten())/nSample)*100, \"%\")"
   ]
  },
  {
   "cell_type": "code",
   "execution_count": 33,
   "metadata": {},
   "outputs": [
    {
     "data": {
      "text/plain": [
       "[<matplotlib.lines.Line2D at 0x7f47c050d250>]"
      ]
     },
     "execution_count": 33,
     "metadata": {},
     "output_type": "execute_result"
    },
    {
     "data": {
      "image/png": "[encoded data removed]",
      "text/plain": [
       "<Figure size 640x480 with 1 Axes>"
      ]
     },
     "metadata": {},
     "output_type": "display_data"
    }
   ],
   "source": [
    "import matplotlib.pyplot as plt\n",
    "import numpy as np\n",
    "\n",
    "%matplotlib inline\n",
    "plt.figure()\n",
    "plt.plot(err_data_new, 'b*')"
   ]
  },
  {
   "attachments": {},
   "cell_type": "markdown",
   "metadata": {},
   "source": [
    "- The whole error analysis (including all sites and receivers) of the test dataset"
   ]
  },
  {
   "cell_type": "code",
   "execution_count": 34,
   "metadata": {},
   "outputs": [],
   "source": [
    "from numpy import linalg as LA\n",
    "reader_test1 = MatReader(TEST_PATH)\n",
    "x_test1 = reader_test1.read_field('sig')\n",
    "y_test_rhoxy = reader_test1.read_field('rhoxy').numpy()\n",
    "y_test_rhoyx = reader_test1.read_field('rhoyx').numpy()\n",
    "nSample = x_test1.shape[0]\n",
    "\n",
    "err_all = np.zeros((nSample, 3))\n",
    "for i in range(nSample):\n",
    "\n",
    "    xtestNew = x_test1[i,:,:]\n",
    "    result = predict(xtestNew)\n",
    "    rhoxy_predict = pow(10, result[:,:,0])\n",
    "    rhoyx_predict = pow(10, result[:,:,1])\n",
    "\n",
    "    data1 = y_test_rhoxy[i,::4,:]\n",
    "    data2 = y_test_rhoyx[i,::4,:]\n",
    "    data1 = pow(10, data1)\n",
    "    data2 = pow(10, data2)\n",
    "\n",
    "    rhoxy_predict_all = rhoxy_predict.flatten()\n",
    "    rhoyx_predict_all = rhoyx_predict.flatten()\n",
    "\n",
    "    y_test_rhoxy_all = data1.flatten()\n",
    "    y_test_rhoyx_all = data2.flatten()\n",
    "    \n",
    "    diff1 = (rhoxy_predict_all - y_test_rhoxy_all)/y_test_rhoxy_all*100\n",
    "    err1 = LA.norm(diff1, 2) / len(y_test_rhoxy_all) ** 0.5\n",
    "\n",
    "    diff2 = (rhoyx_predict_all - y_test_rhoyx_all)/y_test_rhoyx_all*100\n",
    "    err2 = LA.norm(diff2, 2) / len(y_test_rhoxy_all) ** 0.5\n",
    "\n",
    "    diff = np.power(diff1, 2) + np.power(diff2, 2)\n",
    "    err = np.sqrt(np.sum(diff)) / (2*len(diff)) ** 0.5\n",
    "    \n",
    "    err_all[i, 0] = err1\n",
    "    err_all[i, 1] = err2\n",
    "    err_all[i, 2] = err"
   ]
  },
  {
   "cell_type": "code",
   "execution_count": 35,
   "metadata": {},
   "outputs": [
    {
     "data": {
      "text/plain": [
       "146"
      ]
     },
     "execution_count": 35,
     "metadata": {},
     "output_type": "execute_result"
    }
   ],
   "source": [
    "err_data_new = err_all[:,2]\n",
    "len(err_data_new[err_data_new>5].flatten())"
   ]
  },
  {
   "cell_type": "code",
   "execution_count": 36,
   "metadata": {},
   "outputs": [
    {
     "data": {
      "text/plain": [
       "2854"
      ]
     },
     "execution_count": 36,
     "metadata": {},
     "output_type": "execute_result"
    }
   ],
   "source": [
    "# <5% error\n",
    "nSample - len(err_data_new[err_data_new>5].flatten())"
   ]
  },
  {
   "cell_type": "code",
   "execution_count": 37,
   "metadata": {},
   "outputs": [
    {
     "name": "stdout",
     "output_type": "stream",
     "text": [
      "error < 5%:  95.13333333333334 %\n"
     ]
    }
   ],
   "source": [
    "print(\"error < 5%: \", (1-len(err_data_new[err_data_new>5].flatten())/nSample)*100, \"%\")"
   ]
  },
  {
   "cell_type": "code",
   "execution_count": 38,
   "metadata": {},
   "outputs": [
    {
     "data": {
      "text/plain": [
       "2986"
      ]
     },
     "execution_count": 38,
     "metadata": {},
     "output_type": "execute_result"
    }
   ],
   "source": [
    "# <10% error\n",
    "nSample - len(err_data_new[err_data_new>10].flatten())"
   ]
  },
  {
   "cell_type": "code",
   "execution_count": 39,
   "metadata": {},
   "outputs": [
    {
     "name": "stdout",
     "output_type": "stream",
     "text": [
      "error < 10%:  99.53333333333333 %\n"
     ]
    }
   ],
   "source": [
    "print(\"error < 10%: \", (1-len(err_data_new[err_data_new>10].flatten())/nSample)*100, \"%\")"
   ]
  },
  {
   "cell_type": "code",
   "execution_count": 40,
   "metadata": {},
   "outputs": [
    {
     "data": {
      "text/plain": [
       "[<matplotlib.lines.Line2D at 0x7f47c04c66a0>]"
      ]
     },
     "execution_count": 40,
     "metadata": {},
     "output_type": "execute_result"
    },
    {
     "data": {
      "image/png": "[encoded data removed]",
      "text/plain": [
       "<Figure size 640x480 with 1 Axes>"
      ]
     },
     "metadata": {},
     "output_type": "display_data"
    }
   ],
   "source": [
    "import matplotlib.pyplot as plt\n",
    "import numpy as np\n",
    "\n",
    "%matplotlib inline\n",
    "plt.figure()\n",
    "plt.plot(err_data_new, \"bo\")"
   ]
  }
 ],
 "metadata": {
  "kernelspec": {
   "display_name": "torch",
   "language": "python",
   "name": "python3"
  },
  "language_info": {
   "codemirror_mode": {
    "name": "ipython",
    "version": 3
   },
   "file_extension": ".py",
   "mimetype": "text/x-python",
   "name": "python",
   "nbconvert_exporter": "python",
   "pygments_lexer": "ipython3",
   "version": "3.8.16"
  },
  "orig_nbformat": 4
 },
 "nbformat": 4,
 "nbformat_minor": 2
}
